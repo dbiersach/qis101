{
 "cells": [
  {
   "cell_type": "markdown",
   "metadata": {
    "id": "ecvPufQvPTJG"
   },
   "source": [
    "Set the simulation duration\n",
    "1. $t_f$ is the <u>final</u> time (in seconds) <span style=\"color:red\">(your choice)</span>\n",
    "2. $t_s$ is the number of desired `time steps`\n",
    "3. $dt$ is the time difference ($\\Delta t$) between successive estimates"
   ]
  },
  {
   "cell_type": "code",
   "execution_count": null,
   "metadata": {
    "id": "anq03n1XPWKn"
   },
   "outputs": [],
   "source": [
    "\"\"\"euler_pendulum.ipynb\"\"\"\n",
    "\n",
    "# Cell 01\n",
    "\n",
    "tf = 10  # final time (seconds)\n",
    "ts = 500  # time steps\n",
    "dt = tf / ts  # delta time (so updates every 20 ms)\n",
    "\n",
    "print(f\"{tf=:,} {ts=:,} {dt=:.2f}\")\n"
   ]
  },
  {
   "cell_type": "markdown",
   "metadata": {
    "id": "fDh-zxkGP3Pb"
   },
   "source": [
    "**Create three numpy `arrays` to hold the independent and dependent variable values**\n",
    "1. $t$ holds the time stamps (elapsed time) at each time step\n",
    "2. $omega$ holds the angular velocity $(\\omega)$ at each time step\n",
    "3. $theta$ holds the angular displacement $(\\theta)$ at each time step\n",
    "\n",
    "So we need as many elements in each array as there are total time steps\\\n",
    "We can initialize each element to zero in all three arrays"
   ]
  },
  {
   "cell_type": "code",
   "execution_count": null,
   "metadata": {
    "id": "-fGcGUkrQXb3"
   },
   "outputs": [],
   "source": [
    "# Cell 02\n",
    "\n",
    "import numpy as np\n",
    "import pandas as pd\n",
    "\n",
    "t = np.zeros(ts)\n",
    "omega = np.zeros(ts)\n",
    "theta = np.zeros(ts)\n",
    "\n",
    "# Use Unicode Code points for Greek letters (https://codepoints.net/search)\n",
    "pd.DataFrame({\"t\": t[:5], \"\\u03b8\": theta[:5], \"\\u03c9\": omega[:5]})"
   ]
  },
  {
   "cell_type": "markdown",
   "metadata": {
    "id": "cA6paFePQuA-"
   },
   "source": [
    "**Set the initial conditions of this simulation**\n",
    "1. The length of the pendulum is constant at $1\\ m$ (meter)\n",
    "2. The initial angular displacement $\\theta$ (at time step 0) is $45°$ (must convert to radians)\n",
    "3. The acceleration due to gravity is $9.81\\ \\frac{m}{s^2}$"
   ]
  },
  {
   "cell_type": "code",
   "execution_count": null,
   "metadata": {
    "id": "4Ad96ok9RCcj"
   },
   "outputs": [],
   "source": [
    "# Cell 03\n",
    "\n",
    "length = 1.0  # pendulum length (m)\n",
    "theta[0] = np.deg2rad(45)\n",
    "g = 9.81  # gravity (m/s^2)\n",
    "\n",
    "pd.DataFrame({\"t\": t[:5], \"\\u03b8\": theta[:5], \"\\u03c9\": omega[:5]})"
   ]
  },
  {
   "cell_type": "markdown",
   "metadata": {
    "id": "0cL3bpJqRLAW"
   },
   "source": [
    "Use the <span style=\"color:yellow\">Euler</span> Method to estimate the angular velocity $(\\omega)$ and angular displacement $(\\theta)$\n",
    "1. The *current* the interval index number (the time step #) is stored in $i$\n",
    "2. The <u>next</u> time interval $t[i+1]$ value will be the current time $t[i]+\\Delta t$\n",
    "3. The <u>next</u> $\\omega[i+1]$ value will be current $\\omega[i]-\\frac{g}{length}\\sin{\\theta_i}\\ \\Delta t$\n",
    "4. The <u>next</u> $\\theta[i+1]$ value will be current $\\theta[i]+\\;\\omega[i]\\,\\Delta t$"
   ]
  },
  {
   "cell_type": "code",
   "execution_count": null,
   "metadata": {
    "id": "sLUq6FudSHqX"
   },
   "outputs": [],
   "source": [
    "# Cell 04\n",
    "\n",
    "for i in range(ts - 1):\n",
    "    t[i + 1] = t[i] + dt\n",
    "    omega[i + 1] = omega[i] - g / length * np.sin(theta[i]) * dt\n",
    "    theta[i + 1] = theta[i] + omega[i] * dt\n",
    "\n",
    "pd.DataFrame({\"t\": t[:5], \"\\u03b8\": theta[:5], \"\\u03c9\": omega[:5]})"
   ]
  },
  {
   "cell_type": "markdown",
   "metadata": {
    "id": "hv_TSlX7hHHG"
   },
   "source": [
    "Plot the angular velocity $(\\omega)$ and angular displacement $(\\theta)$ versus $time$"
   ]
  },
  {
   "cell_type": "code",
   "execution_count": null,
   "metadata": {
    "id": "eKS1P72lhWbN"
   },
   "outputs": [],
   "source": [
    "# Cell 05\n",
    "\n",
    "import matplotlib.pyplot as plt\n",
    "\n",
    "(plot1,) = plt.plot(t, theta, lw=2)\n",
    "(plot2,) = plt.plot(t, omega, lw=2)\n",
    "plt.title(\"Simple Pendulum (Euler's Method)\")\n",
    "plt.xlabel(\"Time (sec)\")\n",
    "plt.ylabel(r\"Angular Displacement $\\theta$ (rad)\")\n",
    "plt.twinx()\n",
    "plt.ylabel(r\"Angular Velocity $\\omega$ (rad/s)\")\n",
    "legend_lines = [plot1, plot2]\n",
    "legend_labels = [r\"$\\theta$\", r\"$\\omega$\"]\n",
    "plt.legend(\n",
    "    [plot1, plot2], [r\"$\\theta$\", r\"$\\omega$\"], framealpha=1.0, facecolor=\"white\"\n",
    ")\n",
    "plt.grid(\"on\")\n",
    "plt.show()\n"
   ]
  }
 ],
 "metadata": {
  "colab": {
   "authorship_tag": "ABX9TyNoIntdtP4S98zKCLHZUAxG",
   "provenance": []
  },
  "kernelspec": {
   "display_name": "qis101",
   "language": "python",
   "name": "python3"
  },
  "language_info": {
   "codemirror_mode": {
    "name": "ipython",
    "version": 3
   },
   "file_extension": ".py",
   "mimetype": "text/x-python",
   "name": "python",
   "nbconvert_exporter": "python",
   "pygments_lexer": "ipython3",
   "version": "3.12.9"
  }
 },
 "nbformat": 4,
 "nbformat_minor": 0
}
