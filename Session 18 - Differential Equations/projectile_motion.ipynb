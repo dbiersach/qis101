{
 "cells": [
  {
   "cell_type": "markdown",
   "metadata": {
    "id": "t9mX5J3GXuJG"
   },
   "source": [
    "Specify the simulation parameters:\n",
    "1. The trampoline distance is 30m away from the cannon\n",
    "2. The cannon is at a fixed launch angle of $45°$\n",
    "3. The acceleration due to gravity is $9.81\\,\\frac{m}{s^2}$\n",
    "4. The initial velocity $v_0$ is $15\\,\\frac{m}{s}$"
   ]
  },
  {
   "cell_type": "code",
   "execution_count": null,
   "metadata": {
    "id": "03C9AgEYXyAW"
   },
   "outputs": [],
   "source": [
    "# Cell 01\n",
    "\n",
    "import types\n",
    "from pprint import pprint\n",
    "\n",
    "import numpy as np\n",
    "\n",
    "dist = 30  # m\n",
    "theta = np.radians(45)  # 45 degree launch angle\n",
    "g = 9.81  # m/s^2\n",
    "v0 = 15  # m/s\n",
    "\n",
    "# Print all current global variables and their values\n",
    "pprint(\n",
    "    {  # A dictionary comprehension\n",
    "        k: v  # Select every key / value pair in the dictionary\n",
    "        for k, v in globals().items()  # The global symbol table\n",
    "        if not isinstance(v, types.ModuleType)  # The comprehension guard\n",
    "        and not k.startswith((\"_\", \"In\", \"Out\"))\n",
    "        and not callable(v)\n",
    "    }\n",
    ")"
   ]
  },
  {
   "cell_type": "markdown",
   "metadata": {
    "id": "y9KMsdBk11Wc"
   },
   "source": [
    "Create a function to calculate and plot the trajectory of the circus performer\n",
    "1. Create a linearly spaced array for the independent variable that spans $0\\le x\\le 40$\n",
    "2. Performer height is given by $y=\\tan{\\left(\\theta\\right)}\\times x-{\\large{\\frac{g}{2\\times v_0^2\\times\\cos^2{\\left(\\theta\\right)}}}}\\times x^2$"
   ]
  },
  {
   "cell_type": "code",
   "execution_count": null,
   "metadata": {
    "id": "8UwK8YoP18hs"
   },
   "outputs": [],
   "source": [
    "# Cell 02\n",
    "\n",
    "import matplotlib.pyplot as plt\n",
    "from matplotlib.patches import Rectangle\n",
    "\n",
    "\n",
    "def plot_trajectory():\n",
    "    x = np.linspace(0, 40)\n",
    "    y = np.tan(theta) * x - (g / (2 * v0**2 * np.cos(theta) ** 2)) * x**2\n",
    "    plt.plot(x, y)\n",
    "    plt.title(\"Circus Performer Projectile Motion\")\n",
    "    plt.xlabel(\"Distance (m)\")\n",
    "    plt.ylabel(\"Height (m)\")\n",
    "    plt.xlim(left=0)\n",
    "    plt.ylim(bottom=0)\n",
    "    ax = plt.gca()\n",
    "    ax.add_patch(Rectangle((27.5, 0), 5, 1, color=\"red\"))\n",
    "    ax.set_aspect(\"equal\")\n",
    "\n",
    "\n",
    "plot_trajectory()"
   ]
  },
  {
   "cell_type": "markdown",
   "metadata": {
    "id": "0G6t_rpjai8I"
   },
   "source": [
    "Set the *correct* initial launch velocity $v_0$ and recalculate the trajectory\n",
    "\n",
    "$v_0=\\sqrt{\\dfrac{\\text{dist}\\times g}{\\sin(2\\theta)}}$\n"
   ]
  },
  {
   "cell_type": "code",
   "execution_count": null,
   "metadata": {
    "id": "eZ5hGCDzaoey"
   },
   "outputs": [],
   "source": [
    "# Cell 03\n",
    "v0 = np.sqrt(dist * g / np.sin(2 * theta))\n",
    "plot_trajectory()"
   ]
  }
 ],
 "metadata": {
  "colab": {
   "authorship_tag": "ABX9TyP519kRRkzNhWedZ1/BvNxu",
   "provenance": []
  },
  "kernelspec": {
   "display_name": "qis101",
   "language": "python",
   "name": "python3"
  },
  "language_info": {
   "codemirror_mode": {
    "name": "ipython",
    "version": 3
   },
   "file_extension": ".py",
   "mimetype": "text/x-python",
   "name": "python",
   "nbconvert_exporter": "python",
   "pygments_lexer": "ipython3",
   "version": "3.12.9"
  }
 },
 "nbformat": 4,
 "nbformat_minor": 0
}
