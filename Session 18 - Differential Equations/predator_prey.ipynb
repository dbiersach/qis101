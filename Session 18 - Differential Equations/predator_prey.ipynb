{
 "cells": [
  {
   "cell_type": "markdown",
   "metadata": {
    "id": "HdZR1jXIJlRa"
   },
   "source": [
    "Set simulation parameters and initial conditions"
   ]
  },
  {
   "cell_type": "code",
   "execution_count": null,
   "metadata": {
    "id": "vmpWLkuLJqjl"
   },
   "outputs": [],
   "source": [
    "\"\"\"predator_prey.ipynb\"\"\"\n",
    "\n",
    "# Cell 01\n",
    "\n",
    "final_time = 20  # months\n",
    "\n",
    "alpha = 2.0  # Prey birth rate\n",
    "beta = 1.1  # Prey death rate\n",
    "delta = 1.0  # Pred birth rate\n",
    "gamma = 0.9  # Pred death rate\n",
    "\n",
    "# Initial percentage of each species' population\n",
    "pred_0 = 0.5  # Predator population starts at 50%\n",
    "prey_0 = 1.0  # Prey population starts at 100%\n",
    "\n",
    "print(f\"\\u03b1 = {alpha}\", end=\", \")\n",
    "print(f\"\\u03b2 = {beta}\", end=\", \")\n",
    "print(f\"\\u03b4 = {delta}\", end=\", \")\n",
    "print(f\"\\u03b3 = {gamma}\")\n",
    "print(f\"Initial Population % of Predators = {pred_0:.2%}\")\n",
    "print(f\"Initial Population % of Pred      = {prey_0:.2%}\")"
   ]
  },
  {
   "cell_type": "markdown",
   "metadata": {
    "id": "61WtOFHd-yWU"
   },
   "source": [
    "Define the model function using the differential equations\n",
    "- $\\dfrac{dx}{dt}=\\alpha x-\\beta xy$\n",
    "\n",
    "- $\\dfrac{dy}{dt}=\\delta xy-\\gamma y$"
   ]
  },
  {
   "cell_type": "code",
   "execution_count": null,
   "metadata": {
    "id": "AGKJzWK4-15I"
   },
   "outputs": [],
   "source": [
    "# Cell 02\n",
    "\n",
    "import inspect\n",
    "\n",
    "\n",
    "def model(time, state_vector, alpha, beta, delta, gamma):\n",
    "    pred, prey = state_vector\n",
    "    d_prey = alpha * prey - beta * prey * pred\n",
    "    d_pred = delta * prey * pred - gamma * pred\n",
    "    return d_pred, d_prey\n",
    "\n",
    "\n",
    "print(f\"Function name  : {model.__name__}\")\n",
    "print(f\"Parameter names: {inspect.signature(model)}\")"
   ]
  },
  {
   "cell_type": "markdown",
   "metadata": {
    "id": "lIVjumlp-UVI"
   },
   "source": [
    "Use scipy's `solve_ivp()` to numerically estimate the ODE using the RKF45 Method\n",
    "1. We will limit the solver to a maximum time step of $1/1000^{th}$ of total time\n",
    "2. The actual time values used will be returned by the solver\n",
    "3. The solver will also return the predator/prey populations at each time value"
   ]
  },
  {
   "cell_type": "code",
   "execution_count": null,
   "metadata": {
    "id": "C-ps2Zs3DHr4"
   },
   "outputs": [],
   "source": [
    "# Cell 03\n",
    "\n",
    "import pandas as pd\n",
    "from scipy.integrate import solve_ivp\n",
    "\n",
    "sol = solve_ivp(\n",
    "    model,\n",
    "    (0, final_time),  # tuple of time span\n",
    "    [pred_0, prey_0],  # initial state vector\n",
    "    max_step=final_time / 1000,  # maximum time step\n",
    "    args=(alpha, beta, delta, gamma),  # tuple of constants used in ODE\n",
    ")\n",
    "\n",
    "# Retrieve results of the solution\n",
    "t = sol.t\n",
    "pred, prey = sol.y * 100  # Convert to %\n",
    "\n",
    "pd.DataFrame({\"time\": t[:5], \"predator\": pred[:5], \"prey\": prey[:5]})"
   ]
  },
  {
   "cell_type": "markdown",
   "metadata": {
    "id": "DsvHxgJQ21h0"
   },
   "source": [
    "Plot the Predator vs Prey population percentages over the requested time span"
   ]
  },
  {
   "cell_type": "code",
   "execution_count": null,
   "metadata": {
    "id": "BAJK1QWbKbzT"
   },
   "outputs": [],
   "source": [
    "# Cell 04\n",
    "\n",
    "import matplotlib.pyplot as plt\n",
    "from matplotlib.ticker import MultipleLocator\n",
    "\n",
    "plt.plot(t, pred, label=\"predator\", color=\"red\", linewidth=2)\n",
    "plt.plot(t, prey, label=\"prey\", color=\"blue\", linewidth=2)\n",
    "plt.title(\"Predator-Prey Model (Lotka-Volterra)\")\n",
    "plt.xlabel(\"Time (months)\")\n",
    "plt.ylabel(\"Population Percentage\")\n",
    "ax = plt.gca()\n",
    "ax.xaxis.set_major_locator(MultipleLocator(5))\n",
    "ax.xaxis.set_minor_locator(MultipleLocator(1))\n",
    "ax.yaxis.set_major_locator(MultipleLocator(50))\n",
    "ax.yaxis.set_minor_locator(MultipleLocator(10))\n",
    "ax.legend(loc=\"upper right\", framealpha=1.0, facecolor=\"white\")\n",
    "plt.show()"
   ]
  }
 ],
 "metadata": {
  "colab": {
   "provenance": []
  },
  "kernelspec": {
   "display_name": "qis101",
   "language": "python",
   "name": "python3"
  },
  "language_info": {
   "codemirror_mode": {
    "name": "ipython",
    "version": 3
   },
   "file_extension": ".py",
   "mimetype": "text/x-python",
   "name": "python",
   "nbconvert_exporter": "python",
   "pygments_lexer": "ipython3",
   "version": "3.12.9"
  }
 },
 "nbformat": 4,
 "nbformat_minor": 0
}
