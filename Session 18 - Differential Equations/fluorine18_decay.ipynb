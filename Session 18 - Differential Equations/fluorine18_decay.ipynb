{
 "cells": [
  {
   "cell_type": "markdown",
   "metadata": {
    "id": "ecvPufQvPTJG"
   },
   "source": [
    "Set the simulation duration\n",
    "1. $t_f$ is the <u>final</u> time (in hours) <span style=\"color:red\">(your choice)</span>\n",
    "2. $t_s$ is the number of desired `time steps`\n",
    "3. $dt$ is the time difference (delta time) between successive estimates"
   ]
  },
  {
   "cell_type": "code",
   "execution_count": null,
   "metadata": {
    "id": "anq03n1XPWKn"
   },
   "outputs": [],
   "source": [
    "\"\"\"fluorine-18.ipynb\"\"\"\n",
    "\n",
    "# Cell 01\n",
    "\n",
    "tf = 12  # final time (hours)\n",
    "ts = 100  # time steps\n",
    "dt = tf / ts  # delta time (so updates every 7.2 minutes)\n",
    "\n",
    "print(f\"{tf=:,} {ts=:,} {dt=:.2f}\")"
   ]
  },
  {
   "cell_type": "markdown",
   "metadata": {
    "id": "fDh-zxkGP3Pb"
   },
   "source": [
    "Create two numpy `arrays` to hold the independent and dependent variable values\n",
    "1. $t$ holds the time stamps (elapsed time) at the start of each time step\n",
    "2. $n$ holds the number of nuclei (as a <u>percent</u> of initial concentration) at each time step\n",
    "\n",
    "So we need as many elements in each array as there are total time steps\\\n",
    "We can initialize each element in both arrays to zero"
   ]
  },
  {
   "cell_type": "code",
   "execution_count": null,
   "metadata": {
    "id": "-fGcGUkrQXb3"
   },
   "outputs": [],
   "source": [
    "# Cell 02\n",
    "\n",
    "import numpy as np\n",
    "import pandas as pd\n",
    "\n",
    "t = np.zeros(ts)\n",
    "n = np.zeros(ts)\n",
    "\n",
    "pd.DataFrame({\"t\": t[:5], \"n\": n[:5]})"
   ]
  },
  {
   "cell_type": "markdown",
   "metadata": {
    "id": "cA6paFePQuA-"
   },
   "source": [
    "Set the initial conditions of this simulation\n",
    "1. The initial concentration (at time step 0) of the nuclei is 100%\n",
    "2. The half-life $\\tau$ of ${F}_{18}$ is $1.833$ hours"
   ]
  },
  {
   "cell_type": "code",
   "execution_count": null,
   "metadata": {
    "id": "4Ad96ok9RCcj"
   },
   "outputs": [],
   "source": [
    "# Cell 03\n",
    "\n",
    "n[0] = 100\n",
    "tau = 1.833\n",
    "\n",
    "pd.DataFrame({\"t\": t[:5], \"n\": n[:5]})"
   ]
  },
  {
   "cell_type": "markdown",
   "metadata": {
    "id": "0cL3bpJqRLAW"
   },
   "source": [
    "Use <b>Euler's Method</b> (forward in time) to estimate the decay curve of $F_{18}$\n",
    "1. $i$ is current the interval # (the time step #)\n",
    "2. The <u>next</u> time interval $t[i+1]$ value will be the current time $t[i]+dt$\n",
    "3. The <u>next</u> nuclei count $n[i+1]$ value will be the current nuclei count $\\large n[i]-\\frac{n[t]}{\\tau}dt$"
   ]
  },
  {
   "cell_type": "code",
   "execution_count": null,
   "metadata": {
    "id": "sLUq6FudSHqX"
   },
   "outputs": [],
   "source": [
    "# Cell 04\n",
    "\n",
    "for i in range(ts - 1):\n",
    "    t[i + 1] = t[i] + dt\n",
    "    n[i + 1] = n[i] - n[i] / tau * dt\n",
    "\n",
    "pd.DataFrame({\"t\": t[:5], \"n\": n[:5]})"
   ]
  },
  {
   "cell_type": "markdown",
   "metadata": {
    "id": "lM6OJtkZSPls"
   },
   "source": [
    "Plot the decay curve of $F_{18}$"
   ]
  },
  {
   "cell_type": "code",
   "execution_count": null,
   "metadata": {
    "id": "nPc4GsTvSTMW"
   },
   "outputs": [],
   "source": [
    "# Cell 05\n",
    "\n",
    "import matplotlib.pyplot as plt\n",
    "\n",
    "plt.plot(t, n)\n",
    "plt.title(\"Fluorine-18 Decay\")\n",
    "plt.xlabel(\"Time (hours)\")\n",
    "plt.ylabel(\"% Concentration\")\n",
    "plt.show()"
   ]
  }
 ],
 "metadata": {
  "colab": {
   "provenance": []
  },
  "kernelspec": {
   "display_name": "qis101",
   "language": "python",
   "name": "python3"
  },
  "language_info": {
   "codemirror_mode": {
    "name": "ipython",
    "version": 3
   },
   "file_extension": ".py",
   "mimetype": "text/x-python",
   "name": "python",
   "nbconvert_exporter": "python",
   "pygments_lexer": "ipython3",
   "version": "3.12.11"
  }
 },
 "nbformat": 4,
 "nbformat_minor": 0
}
