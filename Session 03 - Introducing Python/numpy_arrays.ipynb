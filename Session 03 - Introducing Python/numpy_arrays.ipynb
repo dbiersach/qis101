{
 "cells": [
  {
   "cell_type": "code",
   "execution_count": null,
   "id": "4e99db99",
   "metadata": {},
   "outputs": [],
   "source": [
    "\"\"\"numpy_arrays.ipynb\"\"\"\n",
    "\n",
    "# Cell 01\n",
    "\n",
    "import numpy as np\n",
    "\n",
    "x = np.arange(1, 11, 1)\n",
    "print(f\"x = {x}\")"
   ]
  },
  {
   "cell_type": "code",
   "execution_count": null,
   "id": "a9c7c743",
   "metadata": {},
   "outputs": [],
   "source": [
    "# Cell 02\n",
    "\n",
    "x = np.arange(10)\n",
    "print(f\"x = {x}\")"
   ]
  },
  {
   "cell_type": "code",
   "execution_count": null,
   "id": "f47fcb17",
   "metadata": {},
   "outputs": [],
   "source": [
    "# Cell 03\n",
    "\n",
    "y = x * 2\n",
    "print(f\"x = {x}\")\n",
    "print(f\"y = {y}\")"
   ]
  },
  {
   "cell_type": "code",
   "execution_count": null,
   "id": "5a850b3a",
   "metadata": {},
   "outputs": [],
   "source": [
    "# Cell 04\n",
    "\n",
    "y = x**2\n",
    "print(f\"x = {x}\")\n",
    "print(f\"y = {y}\")"
   ]
  },
  {
   "cell_type": "code",
   "execution_count": null,
   "id": "6aff4be1",
   "metadata": {},
   "outputs": [],
   "source": [
    "# Cell 05\n",
    "\n",
    "x = np.arange(0, 10, 2)\n",
    "print(f\"x = {x}\")"
   ]
  },
  {
   "cell_type": "code",
   "execution_count": null,
   "id": "fcb3a004",
   "metadata": {},
   "outputs": [],
   "source": [
    "# Cell 06\n",
    "\n",
    "x = np.arange(10, 0, -2)\n",
    "print(f\"x = {x}\")"
   ]
  },
  {
   "cell_type": "code",
   "execution_count": null,
   "id": "fc9a055b",
   "metadata": {},
   "outputs": [],
   "source": [
    "# Cell 07\n",
    "\n",
    "x = np.linspace(1, 5, 5)\n",
    "print(f\"x = {x}\")"
   ]
  },
  {
   "cell_type": "code",
   "execution_count": null,
   "id": "5a2bb6ef",
   "metadata": {},
   "outputs": [],
   "source": [
    "# Cell 08\n",
    "\n",
    "y = x / 2\n",
    "print(f\"x = {x}\")\n",
    "print(f\"x^2 = {x**2}\")\n",
    "print(f\"x/2 = {y}\")\n",
    "print(f\"x^2 - x/2 = {x**2 - y}\")"
   ]
  },
  {
   "cell_type": "code",
   "execution_count": null,
   "id": "11841575",
   "metadata": {},
   "outputs": [],
   "source": [
    "# Cell 09\n",
    "\n",
    "x = np.linspace(0, 10)\n",
    "print(f\"x = {x}\")\n",
    "print(x.size)"
   ]
  },
  {
   "cell_type": "code",
   "execution_count": null,
   "id": "23021bdc",
   "metadata": {},
   "outputs": [],
   "source": [
    "# Cell 10\n",
    "\n",
    "print(x[0])\n",
    "print(x[-1])"
   ]
  },
  {
   "cell_type": "code",
   "execution_count": null,
   "id": "be98e329",
   "metadata": {},
   "outputs": [],
   "source": [
    "# Cell 11\n",
    "\n",
    "print(np.sqrt(x))"
   ]
  }
 ],
 "metadata": {
  "kernelspec": {
   "display_name": "qis101",
   "language": "python",
   "name": "python3"
  },
  "language_info": {
   "codemirror_mode": {
    "name": "ipython",
    "version": 3
   },
   "file_extension": ".py",
   "mimetype": "text/x-python",
   "name": "python",
   "nbconvert_exporter": "python",
   "pygments_lexer": "ipython3",
   "version": "3.12.9"
  }
 },
 "nbformat": 4,
 "nbformat_minor": 5
}
