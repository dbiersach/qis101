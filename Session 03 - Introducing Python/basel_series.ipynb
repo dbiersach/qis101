{
 "cells": [
  {
   "cell_type": "markdown",
   "metadata": {
    "id": "53UEuucT3FPJ"
   },
   "source": [
    "Create a linearly spaced array $x$ $(1\\leq x\\leq n)$ having $n=100,000$ elements \\\n",
    "and display the first ten elements of the *cumulative* sum of that array $x$"
   ]
  },
  {
   "cell_type": "code",
   "execution_count": null,
   "metadata": {
    "id": "2Pg1BTmq3XH9"
   },
   "outputs": [],
   "source": [
    "\"\"\"basel_series.ipynb\"\"\"\n",
    "\n",
    "# Cell 01\n",
    "\n",
    "import numpy as np\n",
    "\n",
    "n = 100_000\n",
    "x = np.linspace(1, n, n)\n",
    "print(x[:10])\n",
    "print(np.cumsum(x)[:10])"
   ]
  },
  {
   "cell_type": "markdown",
   "metadata": {},
   "source": [
    "Set $y_1 = \\sum\\limits_{k=1}^{n}\\frac{1}{x_k}$ and $y_2=\\sum\\limits_{k=1}^{n}\\frac{1}{(x_k)^2}$ \\\n",
    "and display the final value in each cumulative sum"
   ]
  },
  {
   "cell_type": "code",
   "execution_count": null,
   "metadata": {},
   "outputs": [],
   "source": [
    "# Cell 02\n",
    "\n",
    "y1 = np.cumsum(1 / x)\n",
    "y2 = np.cumsum(1 / (x**2))\n",
    "print(y1[-1])\n",
    "print(y2[-1])"
   ]
  },
  {
   "cell_type": "markdown",
   "metadata": {
    "id": "GEOaD8yK5gd8"
   },
   "source": [
    "Graph $y_1(x)$ and $y_2(x)$"
   ]
  },
  {
   "cell_type": "code",
   "execution_count": null,
   "metadata": {
    "id": "BJmNq0us5qEW"
   },
   "outputs": [],
   "source": [
    "# Cell 03\n",
    "\n",
    "import matplotlib.pyplot as plt\n",
    "\n",
    "plt.plot(x, y1, label=\"1/x\")\n",
    "plt.plot(x, y2**2, label=\"1/x**2\")\n",
    "plt.legend(loc=\"center right\")\n",
    "\n",
    "plt.title(\"Infinite Series\")\n",
    "plt.xlabel(\"Number of Terms\")\n",
    "plt.ylabel(\"Cumulative Sum\")\n",
    "plt.show()"
   ]
  },
  {
   "cell_type": "markdown",
   "metadata": {
    "id": "8aVF7gSM57TV"
   },
   "source": [
    "Calculate $\\sqrt{6\\left(\\sum\\limits_{n=1}^{\\infty}\\frac{1}{n^2}\\right)}$ \\\n",
    "Note: A computer cannot sum an infinite number of terms"
   ]
  },
  {
   "cell_type": "code",
   "execution_count": null,
   "metadata": {
    "id": "m7Zsxqjw8ipn"
   },
   "outputs": [],
   "source": [
    "# Cell 04\n",
    "\n",
    "print(np.sqrt(6 * np.sum(1 / x**2)))"
   ]
  },
  {
   "cell_type": "markdown",
   "metadata": {
    "id": "cqNHLKDh_mgJ"
   },
   "source": [
    "Demonstrate that $\\sum\\limits_{n=1}^\\infty n^3 = \\left(\\sum\\limits_{n=1}^\\infty n\\right)^2$"
   ]
  },
  {
   "cell_type": "code",
   "execution_count": null,
   "metadata": {
    "id": "F-Jt4fUF-zXz"
   },
   "outputs": [],
   "source": [
    "# Cell 05\n",
    "\n",
    "print(np.sum(x**3) == np.sum(x) ** 2)"
   ]
  }
 ],
 "metadata": {
  "colab": {
   "provenance": []
  },
  "kernelspec": {
   "display_name": "qis101",
   "language": "python",
   "name": "python3"
  },
  "language_info": {
   "codemirror_mode": {
    "name": "ipython",
    "version": 3
   },
   "file_extension": ".py",
   "mimetype": "text/x-python",
   "name": "python",
   "nbconvert_exporter": "python",
   "pygments_lexer": "ipython3",
   "version": "3.12.9"
  }
 },
 "nbformat": 4,
 "nbformat_minor": 0
}
