{
 "cells": [
  {
   "cell_type": "code",
   "execution_count": null,
   "id": "ab9b1527-5840-4e66-b9d8-e7fb8be5a316",
   "metadata": {
    "tags": []
   },
   "outputs": [],
   "source": [
    "\"\"\"qiskit_save_credential.ipynb\"\"\"\n",
    "\n",
    "# Cell 01 - Create the file $HOME/.qiskit/qiskit-ibm.json\n",
    "\n",
    "from pathlib import Path\n",
    "\n",
    "from qiskit_ibm_runtime import QiskitRuntimeService\n",
    "from qiskit_ibm_runtime.accounts import AccountAlreadyExistsError\n",
    "\n",
    "# Your IBM API Token must be kept strictly confidential !!\n",
    "my_api_token = \"HVtwrSa67WlbgR7XMPYUyQ1wSdDWACjNAhSrI6iZ36ZC\"\n",
    "\n",
    "# Attempt to save your IBM Quantum credential\n",
    "try:\n",
    "    QiskitRuntimeService.save_account(\n",
    "        channel=\"ibm_cloud\",  # \"channel\" distinguishes between different accounts\n",
    "        instance=\"crn:v1:bluemix:public:quantum-computing:us-east:a/894c97958d654286afd6d5e488e7a94b:5fa2ab43-b2a5-4a49-b6c9-8c1201bd5036::\",\n",
    "        set_as_default=True,  # Optionally set these as your default credentials\n",
    "        token=my_api_token,  # Do not share your token in public code\n",
    "        overwrite=False,  # Do NOT overwrite any existing credential\n",
    "    )\n",
    "    print(\"Created new IBM Qiskit Credential\")\n",
    "\n",
    "except AccountAlreadyExistsError:\n",
    "    print(\"Existing IBM Qiskit Credential found\")\n",
    "\n",
    "# Verify credential file was created\n",
    "file_path = Path.home() / \".qiskit\" / \"qiskit-ibm.json\"\n",
    "with open(file_path, \"r\") as f_in:\n",
    "    credential_file = f_in.read()\n",
    "    print(f\"File path: {file_path}\")\n",
    "    print(credential_file)"
   ]
  },
  {
   "cell_type": "code",
   "execution_count": null,
   "id": "b3e6084a-61b2-4457-ba00-0a16084039ce",
   "metadata": {},
   "outputs": [],
   "source": [
    "# Cell 02 - Display available backends\n",
    "\n",
    "from qiskit_ibm_runtime import QiskitRuntimeService\n",
    "\n",
    "service = QiskitRuntimeService(channel=\"ibm_cloud\")\n",
    "\n",
    "for backend in service.backends(simulator=False, operational=True):\n",
    "    config = backend.configuration()\n",
    "    print(\n",
    "        f\"{config.backend_name:15}: Qubits = {config.n_qubits}: Gates = {config.basis_gates}\"\n",
    "    )\n"
   ]
  }
 ],
 "metadata": {
  "kernelspec": {
   "display_name": "qis101",
   "language": "python",
   "name": "python3"
  },
  "language_info": {
   "codemirror_mode": {
    "name": "ipython",
    "version": 3
   },
   "file_extension": ".py",
   "mimetype": "text/x-python",
   "name": "python",
   "nbconvert_exporter": "python",
   "pygments_lexer": "ipython3",
   "version": "3.12.11"
  }
 },
 "nbformat": 4,
 "nbformat_minor": 5
}
