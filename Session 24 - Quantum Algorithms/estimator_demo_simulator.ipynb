{
 "cells": [
  {
   "cell_type": "code",
   "execution_count": null,
   "id": "94ef7fdd",
   "metadata": {},
   "outputs": [],
   "source": [
    "\"\"\"estimator_demo_simulator.ipynb\"\"\"\n",
    "\n",
    "# Cell 01 - Create a Bell State (|00> + |11>)\n",
    "\n",
    "from qiskit import QuantumCircuit\n",
    "\n",
    "qc = QuantumCircuit(2)\n",
    "qc.h(0)\n",
    "qc.cx(0, 1)\n",
    "\n",
    "qc.draw(output=\"mpl\")"
   ]
  },
  {
   "cell_type": "code",
   "execution_count": null,
   "id": "574b9338",
   "metadata": {},
   "outputs": [],
   "source": [
    "# Cell 02 - Run circuit on a target backend\n",
    "\n",
    "from qiskit.quantum_info import SparsePauliOp\n",
    "from qiskit.transpiler.preset_passmanagers import generate_preset_pass_manager\n",
    "from qiskit_ibm_runtime import EstimatorV2 as Estimator\n",
    "from qiskit_ibm_runtime.fake_provider import FakeAlmadenV2\n",
    "\n",
    "backend = FakeAlmadenV2()\n",
    "config = backend.configuration()\n",
    "print(\n",
    "    f\"{config.backend_name:15}: Qubits = {config.n_qubits}: Gates = {config.basis_gates}\"\n",
    ")\n",
    "\n",
    "# Transpile the quantum circuit for the target backend\n",
    "pm = generate_preset_pass_manager(backend=backend, optimization_level=1)\n",
    "isa_circuit = pm.run(qc)\n",
    "\n",
    "# Display how the circuit will actually run on the target backend\n",
    "display(isa_circuit.draw(\"mpl\", idle_wires=False))\n",
    "\n",
    "estimator = Estimator(backend)\n",
    "estimator.options.default_shots = 5000\n",
    "\n",
    "observables_labels = [\"IZ\", \"IX\", \"ZI\", \"XI\", \"ZZ\", \"XX\"]\n",
    "observables = [SparsePauliOp(label) for label in observables_labels]\n",
    "mapped_observables = [\n",
    "    observable.apply_layout(isa_circuit.layout) for observable in observables\n",
    "]\n",
    "\n",
    "job = estimator.run([(isa_circuit, mapped_observables)])\n",
    "\n",
    "print(f\"Job ID: {job.job_id()}\")"
   ]
  },
  {
   "cell_type": "code",
   "execution_count": null,
   "id": "cca3bfbd",
   "metadata": {},
   "outputs": [],
   "source": [
    "# Cell 03 - Wait for job to complete and plot the results\n",
    "\n",
    "from matplotlib import pyplot as plt\n",
    "\n",
    "job_result = job.result()\n",
    "pub_result = job.result()[0]\n",
    "\n",
    "values = pub_result.data.evs\n",
    "errors = pub_result.data.stds\n",
    "\n",
    "plt.plot(observables_labels, values, \"-o\")\n",
    "plt.xlabel(\"Observables\")\n",
    "plt.ylabel(\"Values\")\n",
    "plt.show()"
   ]
  }
 ],
 "metadata": {
  "kernelspec": {
   "display_name": "qis101",
   "language": "python",
   "name": "python3"
  },
  "language_info": {
   "codemirror_mode": {
    "name": "ipython",
    "version": 3
   },
   "file_extension": ".py",
   "mimetype": "text/x-python",
   "name": "python",
   "nbconvert_exporter": "python",
   "pygments_lexer": "ipython3",
   "version": "3.12.11"
  }
 },
 "nbformat": 4,
 "nbformat_minor": 5
}
