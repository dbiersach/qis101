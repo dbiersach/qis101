{
 "cells": [
  {
   "cell_type": "code",
   "execution_count": null,
   "id": "03b138bf",
   "metadata": {},
   "outputs": [],
   "source": [
    "\"\"\"x_gate_inverse.py\"\"\"\n",
    "\n",
    "# Cell 01 - Get operator for X gate\n",
    "\n",
    "from IPython.display import display\n",
    "from qis101_utils import as_latex\n",
    "from qiskit.circuit.library import XGate\n",
    "from qiskit.quantum_info import Operator\n",
    "\n",
    "# Create an X gate instance\n",
    "x_gate = XGate()\n",
    "\n",
    "# Obtain the unitary matrix for the X gate\n",
    "x_matrix = Operator(x_gate).data\n",
    "\n",
    "display(as_latex(x_gate, prefix=r\"\\mathbf{X}=\"))\n"
   ]
  },
  {
   "cell_type": "code",
   "execution_count": null,
   "id": "646652bb",
   "metadata": {},
   "outputs": [],
   "source": [
    "# Cell 02 - Compute the inverse of the X gate's matrix\n",
    "\n",
    "import numpy as np\n",
    "\n",
    "x_inv_matrix = np.linalg.inv(x_matrix)\n",
    "\n",
    "display(as_latex(x_inv_matrix, prefix=r\"\\mathbf{X^{-1}}=\"))"
   ]
  },
  {
   "cell_type": "code",
   "execution_count": null,
   "id": "289de222",
   "metadata": {},
   "outputs": [],
   "source": [
    "# Cell 03 - Verify X = Inverse X\n",
    "\n",
    "from IPython.core.display import Math\n",
    "\n",
    "is_self_inverse = np.allclose(x_matrix, x_inv_matrix)\n",
    "\n",
    "display(\n",
    "    Math(\n",
    "        r\"\\mathbf{X}=\"\n",
    "        r\"\\mathrm{X^{-1}}\"\n",
    "        rf\"\\;?\\;\\rightarrow\\;{is_self_inverse}\"\n",
    "    )\n",
    ")"
   ]
  }
 ],
 "metadata": {
  "kernelspec": {
   "display_name": "qis101",
   "language": "python",
   "name": "python3"
  },
  "language_info": {
   "codemirror_mode": {
    "name": "ipython",
    "version": 3
   },
   "file_extension": ".py",
   "mimetype": "text/x-python",
   "name": "python",
   "nbconvert_exporter": "python",
   "pygments_lexer": "ipython3",
   "version": "3.12.11"
  }
 },
 "nbformat": 4,
 "nbformat_minor": 5
}
