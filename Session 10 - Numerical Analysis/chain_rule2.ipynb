{
 "cells": [
  {
   "cell_type": "code",
   "execution_count": null,
   "id": "46186fc3",
   "metadata": {},
   "outputs": [],
   "source": [
    "\"\"\"chain_rule2.ipynb\"\"\"\n",
    "\n",
    "# Cell 01\n",
    "\n",
    "import matplotlib.pyplot as plt\n",
    "import numpy as np\n",
    "\n",
    "\n",
    "def y(x):\n",
    "    return np.exp(3 * x + 1)\n",
    "\n",
    "\n",
    "def dy(x):\n",
    "    def D4(f, x, h):\n",
    "        \"\"\"4th Order Centered Differences\"\"\"\n",
    "        t1, t2 = -f(x + 2 * h), 8 * f(x + h)\n",
    "        t3, t4 = -8 * f(x - h), f(x - 2 * h)\n",
    "        return (t1 + t2 + t3 + t4) / (12 * h)\n",
    "\n",
    "    \"\"\"Richardson Extrapolation\"\"\"\n",
    "    h = 0.01\n",
    "    t1, t2 = D4(y, x, h), D4(y, x, h / 2)\n",
    "    return (16 * t2 - t1) / 15\n",
    "\n",
    "\n",
    "a, b = 0, 1\n",
    "x = np.linspace(a, b, 500)\n",
    "\n",
    "plt.plot(x, y(x), label=r\"$y=e^{3x+1}$\")\n",
    "plt.plot(x, dy(x), label=r\"$y'$\")\n",
    "plt.title(\"Chain Rule Demo 2\")\n",
    "plt.legend(loc=\"upper right\")\n",
    "plt.xlim(a, b)\n",
    "plt.grid(\"on\")"
   ]
  },
  {
   "cell_type": "code",
   "execution_count": null,
   "id": "a0a5d781",
   "metadata": {},
   "outputs": [],
   "source": [
    "# Cell 02\n",
    "\n",
    "\n",
    "def y_prime(x):\n",
    "    return np.exp(3 * x + 1) * 3\n",
    "\n",
    "\n",
    "plt.plot(x, y(x), label=r\"$y=e^{3x+1}$\")\n",
    "plt.plot(x, dy(x), label=r\"$y'=e^{3x+1}\\cdot 3$\")\n",
    "x = x[::5]\n",
    "plt.scatter(x, y_prime(x), color=\"k\", s=5)\n",
    "plt.title(\"Chain Rule Demo 2\")\n",
    "plt.legend(loc=\"upper right\")\n",
    "plt.xlim(a, b)\n",
    "plt.grid(\"on\")"
   ]
  }
 ],
 "metadata": {
  "kernelspec": {
   "display_name": "qis101",
   "language": "python",
   "name": "python3"
  },
  "language_info": {
   "codemirror_mode": {
    "name": "ipython",
    "version": 3
   },
   "file_extension": ".py",
   "mimetype": "text/x-python",
   "name": "python",
   "nbconvert_exporter": "python",
   "pygments_lexer": "ipython3",
   "version": "3.12.9"
  }
 },
 "nbformat": 4,
 "nbformat_minor": 5
}
