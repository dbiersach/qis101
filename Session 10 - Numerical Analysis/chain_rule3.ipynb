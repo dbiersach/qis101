{
 "cells": [
  {
   "cell_type": "code",
   "execution_count": null,
   "id": "46186fc3",
   "metadata": {},
   "outputs": [],
   "source": [
    "\"\"\"chain_rule3.ipynb\"\"\"\n",
    "\n",
    "# Cell 01\n",
    "\n",
    "import matplotlib.pyplot as plt\n",
    "import numpy as np\n",
    "\n",
    "\n",
    "def y(x):\n",
    "    return np.log(np.sin(x))\n",
    "\n",
    "\n",
    "def dy(x):\n",
    "    def D4(f, x, h):\n",
    "        \"\"\"4th Order Centered Differences\"\"\"\n",
    "        t1, t2 = -f(x + 2 * h), 8 * f(x + h)\n",
    "        t3, t4 = -8 * f(x - h), f(x - 2 * h)\n",
    "        return (t1 + t2 + t3 + t4) / (12 * h)\n",
    "\n",
    "    \"\"\"Richardson Extrapolation\"\"\"\n",
    "    h = 0.01\n",
    "    t1, t2 = D4(y, x, h), D4(y, x, h / 2)\n",
    "    return (16 * t2 - t1) / 15\n",
    "\n",
    "\n",
    "a, b = 0, np.pi\n",
    "x = np.linspace(a, b, 500)[4:-4]\n",
    "\n",
    "plt.plot(x, y(x), label=r\"$y=\\ln(\\sin{x})$\")\n",
    "plt.plot(x, dy(x), label=r\"$y'$\")\n",
    "plt.title(\"Chain Rule Demo 3\")\n",
    "plt.legend(loc=\"upper right\")\n",
    "plt.xlim(a, b)\n",
    "plt.ylim(-6, 6)\n",
    "plt.grid(\"on\")"
   ]
  },
  {
   "cell_type": "code",
   "execution_count": null,
   "id": "a0a5d781",
   "metadata": {},
   "outputs": [],
   "source": [
    "# Cell 02\n",
    "\n",
    "\n",
    "def y_prime(x):\n",
    "    return 1 / np.tan(x)\n",
    "\n",
    "\n",
    "plt.plot(x, y(x), label=r\"$y=\\ln(\\sin{x})$\")\n",
    "plt.plot(x, dy(x), label=r\"$y'=\\cot x$\")\n",
    "x = x[::5]\n",
    "plt.scatter(x, y_prime(x), color=\"k\", s=5)\n",
    "plt.title(\"Chain Rule Demo 3\")\n",
    "plt.legend(loc=\"upper right\")\n",
    "plt.xlim(a, b)\n",
    "plt.ylim(-6, 6)\n",
    "plt.axvline((a + b) / 2, color=\"g\")\n",
    "plt.grid(\"on\")"
   ]
  }
 ],
 "metadata": {
  "kernelspec": {
   "display_name": "qis101",
   "language": "python",
   "name": "python3"
  },
  "language_info": {
   "codemirror_mode": {
    "name": "ipython",
    "version": 3
   },
   "file_extension": ".py",
   "mimetype": "text/x-python",
   "name": "python",
   "nbconvert_exporter": "python",
   "pygments_lexer": "ipython3",
   "version": "3.12.9"
  }
 },
 "nbformat": 4,
 "nbformat_minor": 5
}
