{
 "cells": [
  {
   "cell_type": "code",
   "execution_count": null,
   "id": "e38db84a",
   "metadata": {},
   "outputs": [],
   "source": [
    "\"\"\"numpy_boolean_indexing.ipynb\"\"\"\n",
    "\n",
    "# Cell 01\n",
    "\n",
    "import numpy as np\n",
    "\n",
    "x = np.array([1, 2, 3, 4, 5, 6, 7, 8, 9])\n",
    "print(f\"{x = }\")"
   ]
  },
  {
   "cell_type": "code",
   "execution_count": null,
   "id": "7648d64b",
   "metadata": {},
   "outputs": [],
   "source": [
    "# Cell 02\n",
    "\n",
    "a = x > 2\n",
    "print(f\"{x = }\")\n",
    "print(f\"{a = }\")"
   ]
  },
  {
   "cell_type": "code",
   "execution_count": null,
   "id": "ac860da5",
   "metadata": {},
   "outputs": [],
   "source": [
    "# Cell 03\n",
    "\n",
    "b = x < 8\n",
    "print(f\"{x = }\")\n",
    "print(f\"{b = }\")"
   ]
  },
  {
   "cell_type": "code",
   "execution_count": null,
   "id": "982d541b",
   "metadata": {},
   "outputs": [],
   "source": [
    "# Cell 04\n",
    "\n",
    "c = a & b\n",
    "print(f\"{x = }\")\n",
    "print(f\"{a = }\")\n",
    "print(f\"{b = }\")\n",
    "print(f\"{c = }\")\n",
    "print(f\"{x[c] = }\")"
   ]
  },
  {
   "cell_type": "code",
   "execution_count": null,
   "id": "1ef57928",
   "metadata": {},
   "outputs": [],
   "source": [
    "# Cell 05\n",
    "\n",
    "# Not recommended\n",
    "# Here element wise multiplication works only because\n",
    "# of Python's boolean-to-integer behavior\n",
    "print(f\"{x = }\")\n",
    "print((x > 2) * (x < 8))\n",
    "print(x[(x > 2) * (x < 8)])"
   ]
  },
  {
   "cell_type": "code",
   "execution_count": null,
   "id": "3b46ecae",
   "metadata": {},
   "outputs": [],
   "source": [
    "# Cell 06\n",
    "\n",
    "# Recommended (using Boolean AND operator)\n",
    "print(x[(x > 2) & (x < 8)])"
   ]
  },
  {
   "cell_type": "code",
   "execution_count": null,
   "id": "6a6adc37",
   "metadata": {},
   "outputs": [],
   "source": [
    "# Cell 07 - np.where() returns INDEX numbers\n",
    "\n",
    "print(f\"{x = }\")\n",
    "\n",
    "y = np.where((x > 2) & (x < 8))  # Indices not bools!\n",
    "print(f\"{y = }\")\n",
    "\n",
    "print(x[y])\n",
    "print(x[np.where((x > 2) & (x < 8))])"
   ]
  }
 ],
 "metadata": {
  "kernelspec": {
   "display_name": "qis101",
   "language": "python",
   "name": "python3"
  },
  "language_info": {
   "codemirror_mode": {
    "name": "ipython",
    "version": 3
   },
   "file_extension": ".py",
   "mimetype": "text/x-python",
   "name": "python",
   "nbconvert_exporter": "python",
   "pygments_lexer": "ipython3",
   "version": "3.12.9"
  }
 },
 "nbformat": 4,
 "nbformat_minor": 5
}
