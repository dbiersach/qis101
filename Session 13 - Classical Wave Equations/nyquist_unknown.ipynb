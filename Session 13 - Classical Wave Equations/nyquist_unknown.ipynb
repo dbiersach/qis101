{
 "cells": [
  {
   "cell_type": "markdown",
   "metadata": {
    "id": "dWo4pBEcVqLr"
   },
   "source": [
    "Define the \"unknown\" wave function $f(x)$ and calculate $f(\\pi)$"
   ]
  },
  {
   "cell_type": "code",
   "execution_count": null,
   "metadata": {
    "id": "OLnDjp4TVxAm"
   },
   "outputs": [],
   "source": [
    "\"\"\"nyquist_unknown.ipynb\"\"\"\n",
    "\n",
    "# Cell 01\n",
    "\n",
    "import numpy as np\n",
    "\n",
    "\n",
    "# fmt: off\n",
    "def f(x):\n",
    "    return (np.sin(4 * np.pi * x) * np.sin(6 * np.pi * x)\n",
    "        * np.sin(10 * np.pi * x) * np.sin(14 * np.pi * x))\n",
    "# fmt: on\n",
    "\n",
    "f(np.pi)"
   ]
  },
  {
   "cell_type": "markdown",
   "metadata": {
    "id": "2126V27cV63V"
   },
   "source": [
    "Define a function to plot the unknown wave from $0\\le x\\le 210$ using $(n)$ samples\\\n",
    "then plot that wave using `n=420` samples"
   ]
  },
  {
   "cell_type": "code",
   "execution_count": null,
   "metadata": {
    "id": "6dh7utteWBnO"
   },
   "outputs": [],
   "source": [
    "# Cell 02\n",
    "\n",
    "import matplotlib.pyplot as plt\n",
    "from matplotlib.ticker import AutoMinorLocator\n",
    "\n",
    "\n",
    "def plot_unknown_wave(n):\n",
    "    a, b = 0, 210\n",
    "    x = np.linspace(a, b, n + 1)\n",
    "    y = f(x)\n",
    "    # fmt: off\n",
    "    plt.plot(x, y, color=\"blue\", marker=\"o\", markersize=2,\n",
    "        markerfacecolor=\"red\", markeredgecolor=\"red\")\n",
    "    # fmt: on\n",
    "    plt.title(f\"Unknown Waveform ({n} Samples)\")\n",
    "    plt.xlabel(\"x\")\n",
    "    plt.ylabel(\"y\")\n",
    "    plt.ylim(-1.1, 1.2)\n",
    "    plt.axhline(y=0, color=\"lightgray\")\n",
    "    ax = plt.gca()\n",
    "    ax.xaxis.set_minor_locator(AutoMinorLocator())\n",
    "    ax.yaxis.set_minor_locator(AutoMinorLocator())\n",
    "\n",
    "\n",
    "plot_unknown_wave(420)"
   ]
  },
  {
   "cell_type": "markdown",
   "metadata": {
    "id": "Gi3uQCv4bimz"
   },
   "source": [
    "Plot the unknown wave using `n=2940` samples"
   ]
  },
  {
   "cell_type": "code",
   "execution_count": null,
   "metadata": {
    "id": "OcYm0knnbimz"
   },
   "outputs": [],
   "source": [
    "# Cell 03\n",
    "\n",
    "plot_unknown_wave(2940)"
   ]
  },
  {
   "cell_type": "markdown",
   "metadata": {
    "id": "CYGesSn5bxdo"
   },
   "source": [
    "Plot the unknown wave using `n=2939` samples"
   ]
  },
  {
   "cell_type": "code",
   "execution_count": null,
   "metadata": {
    "id": "IH2rvHq_bxdo"
   },
   "outputs": [],
   "source": [
    "# Cell 04\n",
    "\n",
    "plot_unknown_wave(2939)"
   ]
  }
 ],
 "metadata": {
  "colab": {
   "provenance": []
  },
  "kernelspec": {
   "display_name": "qis101",
   "language": "python",
   "name": "python3"
  },
  "language_info": {
   "codemirror_mode": {
    "name": "ipython",
    "version": 3
   },
   "file_extension": ".py",
   "mimetype": "text/x-python",
   "name": "python",
   "nbconvert_exporter": "python",
   "pygments_lexer": "ipython3",
   "version": "3.12.11"
  }
 },
 "nbformat": 4,
 "nbformat_minor": 0
}
