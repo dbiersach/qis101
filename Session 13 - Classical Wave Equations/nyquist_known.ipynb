{
 "cells": [
  {
   "cell_type": "markdown",
   "metadata": {
    "id": "V5KNxevInaLB"
   },
   "source": [
    "Define a function to plot $y=\\sin\\left(\\frac{4}{5}\\pi x\\right )$ from $0\\le x \\le20$ using $(n)$ samples,\\\n",
    "then plot that wave using `n=640` samples"
   ]
  },
  {
   "cell_type": "code",
   "execution_count": null,
   "metadata": {
    "id": "_H9OiYoLnh8F"
   },
   "outputs": [],
   "source": [
    "\"\"\"nyquist_known.ipynb\"\"\"\n",
    "\n",
    "# Cell 01\n",
    "\n",
    "import matplotlib.pyplot as plt\n",
    "import numpy as np\n",
    "from matplotlib.ticker import AutoMinorLocator\n",
    "\n",
    "\n",
    "def plot_wave(n):\n",
    "    a, b = 0, 20\n",
    "    x1 = np.linspace(a, b, 641)\n",
    "    y1 = np.sin(4 / 5 * np.pi * x1)\n",
    "    x2 = np.linspace(a, b, n + 1)\n",
    "    y2 = np.sin(4 / 5 * np.pi * x2)\n",
    "    plt.plot(x1, y1, color=\"lightgray\")\n",
    "    # fmt: off\n",
    "    plt.plot(x2, y2, color=\"blue\", zorder=3,\n",
    "        marker=\"o\", markersize=2, markerfacecolor=\"red\", markeredgecolor=\"red\")\n",
    "    # fmt: on\n",
    "    plt.title(rf\"$y=\\sin\\left(\\frac{{4}}{{5}}\\pi x\\right)$ with {n:,} samples\")\n",
    "    plt.xlabel(\"x\")\n",
    "    plt.ylabel(\"y\")\n",
    "    plt.ylim(-1.1, 1.2)\n",
    "    plt.axhline(y=0, color=\"lightgray\")\n",
    "    ax = plt.gca()\n",
    "    ax.xaxis.set_minor_locator(AutoMinorLocator())\n",
    "    ax.yaxis.set_minor_locator(AutoMinorLocator())\n",
    "    plt.show()\n",
    "\n",
    "\n",
    "plot_wave(640)"
   ]
  },
  {
   "cell_type": "markdown",
   "metadata": {
    "id": "ZkpciOIkpNY1"
   },
   "source": [
    "Plot the wave using `n=15` samples"
   ]
  },
  {
   "cell_type": "code",
   "execution_count": null,
   "metadata": {
    "id": "SVx3vlgOpNY7"
   },
   "outputs": [],
   "source": [
    "# Cell 02\n",
    "\n",
    "plot_wave(15)"
   ]
  },
  {
   "cell_type": "markdown",
   "metadata": {
    "id": "OfDli6TipVtz"
   },
   "source": [
    "Plot the wave using `n=17` samples"
   ]
  },
  {
   "cell_type": "code",
   "execution_count": null,
   "metadata": {
    "id": "oRiLMLRhpVt4"
   },
   "outputs": [],
   "source": [
    "# Cell 03\n",
    "\n",
    "plot_wave(17)"
   ]
  },
  {
   "cell_type": "markdown",
   "metadata": {
    "id": "RDk-gVSLpdLB"
   },
   "source": [
    "Plot the wave using `n=16` samples"
   ]
  },
  {
   "cell_type": "code",
   "execution_count": null,
   "metadata": {
    "id": "iirRuslnpdLC"
   },
   "outputs": [],
   "source": [
    "# Cell 04\n",
    "\n",
    "plot_wave(16)"
   ]
  },
  {
   "cell_type": "markdown",
   "metadata": {
    "id": "zavaff8cppXd"
   },
   "source": [
    "Plot the wave using `n=31` samples"
   ]
  },
  {
   "cell_type": "code",
   "execution_count": null,
   "metadata": {
    "id": "TzMxMGHXppXj"
   },
   "outputs": [],
   "source": [
    "# Cell 05\n",
    "\n",
    "plot_wave(31)"
   ]
  },
  {
   "cell_type": "markdown",
   "metadata": {
    "id": "9QyNwJ_kpun_"
   },
   "source": [
    "Plot the wave using `n=33` samples"
   ]
  },
  {
   "cell_type": "code",
   "execution_count": null,
   "metadata": {
    "id": "dBBorB_Dpun_"
   },
   "outputs": [],
   "source": [
    "# Cell 06\n",
    "\n",
    "plot_wave(33)"
   ]
  },
  {
   "cell_type": "markdown",
   "metadata": {
    "id": "S_AkKfueqKFr"
   },
   "source": [
    "Plot the wave using `n=32` samples"
   ]
  },
  {
   "cell_type": "code",
   "execution_count": null,
   "metadata": {
    "id": "CGpSM4uHqKFs"
   },
   "outputs": [],
   "source": [
    "# Cell 07\n",
    "\n",
    "plot_wave(32)"
   ]
  }
 ],
 "metadata": {
  "colab": {
   "provenance": []
  },
  "kernelspec": {
   "display_name": "qis101",
   "language": "python",
   "name": "python3"
  },
  "language_info": {
   "codemirror_mode": {
    "name": "ipython",
    "version": 3
   },
   "file_extension": ".py",
   "mimetype": "text/x-python",
   "name": "python",
   "nbconvert_exporter": "python",
   "pygments_lexer": "ipython3",
   "version": "3.12.9"
  }
 },
 "nbformat": 4,
 "nbformat_minor": 0
}
