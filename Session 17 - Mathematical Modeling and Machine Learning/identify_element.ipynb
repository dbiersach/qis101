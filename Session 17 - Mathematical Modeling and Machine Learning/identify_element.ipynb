{
 "cells": [
  {
   "cell_type": "markdown",
   "metadata": {
    "id": "IVWjdRJghrje"
   },
   "source": [
    "**Generate a `numpy array` from a CSV (comma separated value) formatted text file**\n",
    "1. The 1st column (index 0) is the temperature in ° Celsius\n",
    "2. The 2nd column (index 1) is the volume in Liters"
   ]
  },
  {
   "cell_type": "code",
   "execution_count": null,
   "metadata": {
    "id": "OO-dZZm6h6Pz"
   },
   "outputs": [],
   "source": [
    "import numpy as np\n",
    "import pandas as pd\n",
    "\n",
    "# Cell 01\n",
    "\n",
    "file_name = \"gas.csv\"\n",
    "data = np.genfromtxt(file_name, delimiter=\",\")\n",
    "pd.DataFrame(data, columns=[\"Temperature (C)\", \"Volume (L)\"])"
   ]
  },
  {
   "cell_type": "markdown",
   "metadata": {
    "id": "EU9dDjzT8_2s"
   },
   "source": [
    "**Convert the experiment data to SI units**\n",
    "1. Temperature should be in ° Kelvin\n",
    "2. Volume should be in cubic Meters"
   ]
  },
  {
   "cell_type": "code",
   "execution_count": null,
   "metadata": {
    "id": "QPNoIBoN9Nqa"
   },
   "outputs": [],
   "source": [
    "# Cell 02\n",
    "\n",
    "temperature = data[:, 0] + 273.15  # 1st column to kelvin\n",
    "volume = data[:, 1] / 1000  # 2nd column to meters cubed\n",
    "pd.DataFrame({\"Temperature (K)\": temperature, \"Volume (m^3)\": volume})"
   ]
  },
  {
   "cell_type": "markdown",
   "metadata": {
    "id": "J25Ovgyo8LAc"
   },
   "source": [
    "**Define a function to calculate the line of best fit through the points $(x,y)$**\n",
    "1. Use Gauss's Linear Regression formulas that minimize the error\n",
    "2. The $(x)$ array holds the independent variable values\n",
    "3. The $(y)$ array holds the dependent variable values\n",
    "4. The function returns $m$ (slope) and $b$ (y-intercept) of the line of best fit passing through the $(x,y)$ points"
   ]
  },
  {
   "cell_type": "code",
   "execution_count": null,
   "metadata": {
    "id": "r5rlV2ZN8zND"
   },
   "outputs": [],
   "source": [
    "# Cell 03\n",
    "\n",
    "\n",
    "def fit_linear(x, y):\n",
    "    m = len(x) * np.sum(x * y) - np.sum(x) * np.sum(y)\n",
    "    m = m / (len(x) * np.sum(x**2) - np.sum(x) ** 2)\n",
    "    b = (np.sum(y) - m * np.sum(x)) / len(x)\n",
    "    return m, b\n",
    "\n",
    "\n",
    "# Calculate line of best fit\n",
    "slope, yint = fit_linear(temperature, volume)\n",
    "print(f\"slope: {slope:.8f}\")\n",
    "print(f\"y-intercept: {yint:.8f}\")"
   ]
  },
  {
   "cell_type": "markdown",
   "metadata": {
    "id": "O7nzxL1c-hik"
   },
   "source": [
    "**Leverage the ideal gas law $PV=nRT$ to solve for $n$ (number of moles of the unknown gas)**"
   ]
  },
  {
   "cell_type": "code",
   "execution_count": null,
   "metadata": {
    "id": "6QBYoTfD-05y"
   },
   "outputs": [],
   "source": [
    "# Cell 04\n",
    "\n",
    "p = 2.0 * 101_325  # Convert 2.0 atm (given) to pascals\n",
    "r = 8.31446261815324  # Gas constant (SI units)\n",
    "n = p / r * slope  # Moles of gas (rearrange ideal gas law equation)\n",
    "print(f\"Number of moles of gas: {n:.8f}\")"
   ]
  },
  {
   "cell_type": "markdown",
   "metadata": {
    "id": "AJ4RH0_W_jCN"
   },
   "source": [
    "**Calculate the atomic mass of the homogenous (pure) gas in the cylinder**"
   ]
  },
  {
   "cell_type": "code",
   "execution_count": null,
   "metadata": {
    "id": "AjjvpMoxAAIV"
   },
   "outputs": [],
   "source": [
    "# Cell 05\n",
    "\n",
    "m_sample = 50  # (given) grams\n",
    "atomic_mass = m_sample / n  # sample mass divided by number of moles\n",
    "print(f\"Atomic mass of unknown gas: {atomic_mass:8f}u\")"
   ]
  },
  {
   "cell_type": "markdown",
   "metadata": {
    "id": "cibMEkp8Al_G"
   },
   "source": [
    "**In preparation for plotting the Temperature vs. Volume line for this gas:**\n",
    "1. Create a linear space of temperature $(t)$ values spanning 0 to 500° Kelvin\n",
    "2. Display the numpy `array` $(t)$"
   ]
  },
  {
   "cell_type": "code",
   "execution_count": null,
   "metadata": {
    "id": "RJ60Tjl5Aa5e"
   },
   "outputs": [],
   "source": [
    "# Cell 06\n",
    "\n",
    "t = np.linspace(0, 500)\n",
    "display(t)"
   ]
  },
  {
   "cell_type": "markdown",
   "metadata": {
    "id": "_8cT-GHtAKPz"
   },
   "source": [
    "**Plot the Temperature vs. Volume line for this gas**\n",
    "1. Superimpose the data points from the CSV file\n",
    "2. Display the atomic mass of the unknown element in the graph's title"
   ]
  },
  {
   "cell_type": "code",
   "execution_count": null,
   "metadata": {
    "id": "E6olwAJwATXx"
   },
   "outputs": [],
   "source": [
    "import matplotlib.pyplot as plt\n",
    "\n",
    "# Cell 07\n",
    "\n",
    "plt.figure()\n",
    "plt.scatter(temperature, volume, color=\"red\")\n",
    "plt.plot(t, slope * t + yint)\n",
    "plt.title(f\"Unknown Gas ({atomic_mass:.3f}u)\")\n",
    "plt.xlabel(r\"Temperature $(\\degree K)$\")\n",
    "plt.ylabel(\"Volume ($m^3$)\")\n",
    "plt.show()"
   ]
  }
 ],
 "metadata": {
  "colab": {
   "provenance": []
  },
  "kernelspec": {
   "display_name": "qis101",
   "language": "python",
   "name": "python3"
  },
  "language_info": {
   "codemirror_mode": {
    "name": "ipython",
    "version": 3
   },
   "file_extension": ".py",
   "mimetype": "text/x-python",
   "name": "python",
   "nbconvert_exporter": "python",
   "pygments_lexer": "ipython3",
   "version": "3.12.9"
  }
 },
 "nbformat": 4,
 "nbformat_minor": 0
}
