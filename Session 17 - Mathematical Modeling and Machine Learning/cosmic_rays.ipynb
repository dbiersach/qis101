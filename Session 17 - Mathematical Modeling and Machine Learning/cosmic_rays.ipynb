{
 "cells": [
  {
   "cell_type": "markdown",
   "metadata": {
    "id": "IVWjdRJghrje"
   },
   "source": [
    "**Generate a `numpy array` from a CSV (comma separated value) formatted text file**\\\n",
    "Print the first 10 rows in the generated array"
   ]
  },
  {
   "cell_type": "code",
   "execution_count": null,
   "metadata": {
    "id": "OO-dZZm6h6Pz"
   },
   "outputs": [],
   "source": [
    "\"\"\"cosmic_rays.ipynb\"\"\"\n",
    "\n",
    "import numpy as np\n",
    "import pandas as pd\n",
    "\n",
    "# Cell 01\n",
    "\n",
    "file_name = \"ray.csv\"\n",
    "data = np.genfromtxt(file_name, delimiter=\",\")\n",
    "pd.DataFrame(data[:10], columns=[\"Time (ns)\", \"Height (cm)\"]).style.hide(axis=\"index\")"
   ]
  },
  {
   "cell_type": "markdown",
   "metadata": {
    "id": "EU9dDjzT8_2s"
   },
   "source": [
    "**Slice the data array by columns into two 1D arrays**\n",
    "1. The 1st column (index 0) is the time $(t)$ in <u>seconds</u> - the *independent* variable\n",
    "2. The 2nd column (index 1) is the height $(h)$ above ground level in <u>centimeters</u> - the *dependent* variable\n",
    "3. Print the first five elements in each array"
   ]
  },
  {
   "cell_type": "code",
   "execution_count": null,
   "metadata": {
    "id": "QPNoIBoN9Nqa"
   },
   "outputs": [],
   "source": [
    "# Cell 02\n",
    "\n",
    "t = data[:, 0]\n",
    "h = data[:, 1]\n",
    "print(f\"{t[:5] = }\")\n",
    "print(f\"{h[:5] = }\")"
   ]
  },
  {
   "cell_type": "markdown",
   "metadata": {
    "id": "J25Ovgyo8LAc"
   },
   "source": [
    "**Define a function to calculate the line of best fit through the points $(x,y)$**\n",
    "1. Use Gauss's Linear Regression formulas that minimize the error\n",
    "2. The $(x)$ array holds the independent variable values\n",
    "3. The $(y)$ array holds the dependent variable values\n",
    "4. The function returns $m$ (slope) and $b$ (y-intercept) of the line of best fit passing through the $(x,y)$ points"
   ]
  },
  {
   "cell_type": "code",
   "execution_count": null,
   "metadata": {
    "id": "r5rlV2ZN8zND"
   },
   "outputs": [],
   "source": [
    "# Cell 03\n",
    "\n",
    "\n",
    "def fit_linear(x, y):\n",
    "    m = len(x) * np.sum(x * y) - np.sum(x) * np.sum(y)\n",
    "    m = m / (len(x) * np.sum(x**2) - np.sum(x) ** 2)\n",
    "    b = (np.sum(y) - m * np.sum(x)) / len(x)\n",
    "    return m, b\n",
    "\n",
    "\n",
    "# Calculate line of best fit\n",
    "slope, yint = fit_linear(t, h)\n",
    "print(f\"slope: {slope:.8f}\")\n",
    "print(f\"y-intercept: {yint:.8f}\")"
   ]
  },
  {
   "cell_type": "markdown",
   "metadata": {
    "id": "x-FtrPqU_R0y"
   },
   "source": [
    "**Calculate the particle's origination height $oh$ and initial velocity $v$**\n",
    "1. The origination height should be in kilometers $(km)$\n",
    "2. The velocity should be relative to the speed of light $(c)$\n",
    "3. The radioactive particle existed for only $0.1743\\ ms$ before it impacted\n",
    "4. The speed of light is $29.98\\ cm/ns$"
   ]
  },
  {
   "cell_type": "code",
   "execution_count": null,
   "metadata": {
    "id": "hxPeoAvS_fiU"
   },
   "outputs": [],
   "source": [
    "# Cell 04\n",
    "\n",
    "oh = (slope * 1e9 / 100) * (0.1743 / 1e3) / 1000\n",
    "v = slope / 29.98\n",
    "print(f\"Velocity = {v:.2f}c\")\n",
    "print(f\"Origination Height = {oh:,.2f} km\")"
   ]
  },
  {
   "cell_type": "markdown",
   "metadata": {
    "id": "q_VUx6CCBHSk"
   },
   "source": [
    "**Plot the trajectory of the particle in the detector as height (cm) vs. time (ns)**"
   ]
  },
  {
   "cell_type": "code",
   "execution_count": null,
   "metadata": {
    "id": "6vWves1WBPbf"
   },
   "outputs": [],
   "source": [
    "import matplotlib.pyplot as plt\n",
    "\n",
    "# Cell 05\n",
    "\n",
    "plt.figure(figsize=(12, 8))\n",
    "plt.scatter(t, h)\n",
    "plt.plot(t, slope * t + yint, color=\"red\", linewidth=2)\n",
    "plt.title(\n",
    "    \"Secondary Cosmic Ray Trajectory\\n\"\n",
    "    f\"Velocity = {v:.2f}c \"\n",
    "    f\"Origination Height = {oh:,.2f}km\",\n",
    ")\n",
    "plt.xlabel(\"Time (ns)\")\n",
    "plt.ylabel(\"Detector Height (cm)\")\n",
    "plt.grid(\"on\")\n",
    "plt.show()"
   ]
  }
 ],
 "metadata": {
  "colab": {
   "provenance": []
  },
  "kernelspec": {
   "display_name": "qis101",
   "language": "python",
   "name": "python3"
  },
  "language_info": {
   "codemirror_mode": {
    "name": "ipython",
    "version": 3
   },
   "file_extension": ".py",
   "mimetype": "text/x-python",
   "name": "python",
   "nbconvert_exporter": "python",
   "pygments_lexer": "ipython3",
   "version": "3.12.9"
  }
 },
 "nbformat": 4,
 "nbformat_minor": 0
}
