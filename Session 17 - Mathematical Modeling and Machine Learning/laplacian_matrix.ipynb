{
 "cells": [
  {
   "cell_type": "code",
   "execution_count": null,
   "metadata": {},
   "outputs": [],
   "source": [
    "\"\"\"laplacian_matrix.ipynb\"\"\"\n",
    "\n",
    "# Cell 01 - Create a connected six-node bidirectional graph\n",
    "\n",
    "import matplotlib.pyplot as plt\n",
    "import networkx as nx\n",
    "\n",
    "g = nx.Graph()\n",
    "g.add_edge(0, 1)\n",
    "g.add_edge(0, 2)\n",
    "g.add_edge(1, 2)\n",
    "g.add_edge(1, 3)\n",
    "g.add_edge(2, 3)\n",
    "g.add_edge(3, 4)\n",
    "g.add_edge(4, 5)\n",
    "\n",
    "# fmt: off\n",
    "nx.draw(g, nx.spring_layout(g, seed=1), \n",
    "    node_size=500, node_color=\"skyblue\",\n",
    "    font_size=12, font_weight=\"bold\",\n",
    "    edge_color=\"gray\", with_labels=True,\n",
    "    arrows=True, arrowstyle = '<->')\n",
    "# fmt: on\n",
    "plt.title(\"Graph Visualization\")\n",
    "plt.show()"
   ]
  },
  {
   "cell_type": "code",
   "execution_count": null,
   "metadata": {},
   "outputs": [],
   "source": [
    "# Cell 02 - Display the Adjacency matrix for that graph\n",
    "\n",
    "from qis101_utils import as_latex\n",
    "\n",
    "a = nx.adjacency_matrix(g).toarray()\n",
    "\n",
    "display(as_latex(a, prefix=r\"\\mathbf{Adj}=\"))"
   ]
  },
  {
   "cell_type": "code",
   "execution_count": null,
   "metadata": {},
   "outputs": [],
   "source": [
    "# Cell 03 - Create a Degree matrix (number of edges at each node)\n",
    "\n",
    "import numpy as np\n",
    "\n",
    "s = np.sum(a, axis=0)  # sum the *rows* of the adjacency matrix\n",
    "d = np.diag(s)  # run those sums down main diagonal of a matrix\n",
    "\n",
    "display(as_latex(s, prefix=r\"\\Sigma\\;of\\;rows(\\mathbf{Adj})=\"))\n",
    "display(as_latex(d, prefix=r\"\\mathbf{Deg}=\"))"
   ]
  },
  {
   "cell_type": "code",
   "execution_count": null,
   "metadata": {},
   "outputs": [],
   "source": [
    "# Cell 04 - Compute the Laplacian Matrix which is the\n",
    "# Adjacency matrix subtracted from the Degree Matrix\n",
    "\n",
    "lap = d - a\n",
    "display(as_latex(lap, prefix=r\"\\mathbf{Lap}=\"))"
   ]
  },
  {
   "cell_type": "code",
   "execution_count": null,
   "metadata": {},
   "outputs": [],
   "source": [
    "# Cell 05 - Plot the Laplacian Matrix\n",
    "\n",
    "plt.figure(figsize=np.shape(a))\n",
    "# plt.imshow(lap, cmap=\"viridis\", interpolation=\"nearest\")\n",
    "plt.imshow(lap, cmap=\"viridis\")\n",
    "plt.title(\"Laplacian Matrix\")\n",
    "plt.colorbar()\n",
    "plt.show()\n"
   ]
  },
  {
   "cell_type": "code",
   "execution_count": null,
   "metadata": {},
   "outputs": [],
   "source": [
    "# Cell 06 - Calculate the eigenvectors and eigenvalues of the Laplacian matrix\n",
    "\n",
    "eigen_vals, eigen_vecs = np.linalg.eig(lap)\n",
    "\n",
    "# Sort by eigensystem by eigenvalues (ascending)\n",
    "idx = np.argsort(eigen_vals)\n",
    "eigvals_sorted = eigen_vals[idx]\n",
    "eigvecs_sorted = eigen_vecs[:, idx]\n",
    "\n",
    "display(\n",
    "    as_latex(\n",
    "        eigvals_sorted, prefix=r\"\\mathrm{Eigenvalues\\;(\\lambda)\\;of\\;\\mathbf{Lap}}=\"\n",
    "    )\n",
    ")\n",
    "\n",
    "display(\n",
    "    as_latex(\n",
    "        eigvecs_sorted, prefix=r\"\\mathrm{Eigenvectors\\;(\\mathbf{v})\\;of\\;\\mathbf{Lap}}=\"\n",
    "    )\n",
    ")\n"
   ]
  },
  {
   "cell_type": "code",
   "execution_count": null,
   "metadata": {},
   "outputs": [],
   "source": [
    "# Cell 07 - Display the Fiedler vector\n",
    "\"\"\"\n",
    "The Fiedler vector is the eigenvector associated with the 2nd smallest eigenvalue\n",
    "of the Laplacian Matrix. The Fielder vector can be used to partition a graph into\n",
    "two distinct subgraphs based upon the sign (positive or negative) of each element\n",
    "\"\"\"\n",
    "\n",
    "f: np.ndarray = eigen_vecs[:, 1]\n",
    "\n",
    "display(as_latex(f, prefix=r\"\\mathbf{F}=\"))"
   ]
  },
  {
   "cell_type": "code",
   "execution_count": null,
   "metadata": {},
   "outputs": [],
   "source": [
    "# Cell 08 - Separate the bipartition nodes using the Fiedler vector\n",
    "\"\"\"\n",
    "The Fiedler vector is widely used as a heuristic for graph partitioning\n",
    "because it minimizes a relaxed version of the sparsest cut objective.\n",
    "However, it doesn't guarantee the absolute sparsest cut.\n",
    "\n",
    "The sparsest cut problem requires us to bipartition (cut) the vertices\n",
    "so as to minimize the ratio of the number of edges across that cut\n",
    "divided by the number of vertices in the smaller half of the partition.\n",
    "\n",
    "In general, finding the sparsest cut is an NP-hard problem,\n",
    "and while the Fiedler vector often produces a good approximation,\n",
    "there are cases where it doesn't yield the optimal (i.e., sparsest) partition.\n",
    "\"\"\"\n",
    "\n",
    "p1 = np.where(f >= 0)[0]  # non-negative indexes in Fiedler vector\n",
    "p2 = np.where(f < 0)[0]  # negative indexes in Fiedler vector\n",
    "\n",
    "display(as_latex(p1, prefix=r\"\\mathbf{P1}=\"))\n",
    "display(as_latex(p2, prefix=r\"\\mathbf{P2}=\"))"
   ]
  }
 ],
 "metadata": {
  "kernelspec": {
   "display_name": "qis101",
   "language": "python",
   "name": "python3"
  },
  "language_info": {
   "codemirror_mode": {
    "name": "ipython",
    "version": 3
   },
   "file_extension": ".py",
   "mimetype": "text/x-python",
   "name": "python",
   "nbconvert_exporter": "python",
   "pygments_lexer": "ipython3",
   "version": "3.12.11"
  }
 },
 "nbformat": 4,
 "nbformat_minor": 2
}
