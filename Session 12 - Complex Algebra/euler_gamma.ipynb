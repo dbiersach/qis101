{
 "cells": [
  {
   "cell_type": "code",
   "execution_count": null,
   "metadata": {},
   "outputs": [],
   "source": [
    "\"\"\"euler_gamma.ipynb\"\"\"\n",
    "\n",
    "# Cell 01\n",
    "\n",
    "from IPython.core.display import Math\n",
    "\n",
    "\n",
    "def factorial_recursive(n):\n",
    "    if n == 0:\n",
    "        return 1\n",
    "    else:\n",
    "        return int(n) * factorial_recursive(n - 1)\n",
    "\n",
    "\n",
    "display(Math(f\"5! = {factorial_recursive(5):,}\"))"
   ]
  },
  {
   "cell_type": "code",
   "execution_count": null,
   "metadata": {},
   "outputs": [],
   "source": [
    "# Cell 02\n",
    "\n",
    "import numpy as np\n",
    "\n",
    "\n",
    "def f(x, s):\n",
    "    try:\n",
    "        return np.power(x, s - 1) * np.exp(-x)\n",
    "    except ZeroDivisionError:\n",
    "        return 0\n",
    "\n",
    "\n",
    "def simpsons_rule(func, s, a, b, intervals):\n",
    "    dx, area = (b - a) / intervals, func(a, s) + func(b, s)\n",
    "    for i in range(1, intervals):\n",
    "        area += func(a + i * dx, s) * (2 * (i % 2 + 1))\n",
    "    return dx / 3 * area\n",
    "\n",
    "\n",
    "def euler_gamma(s):\n",
    "    return simpsons_rule(f, s, 0, int(1e3), int(1e5))\n",
    "\n",
    "\n",
    "def factorial_gamma(x):\n",
    "    return np.round(euler_gamma(x + 1), 5)\n",
    "\n",
    "\n",
    "display(Math(f\"5! = {factorial_gamma(5):,}\"))"
   ]
  },
  {
   "cell_type": "code",
   "execution_count": null,
   "metadata": {},
   "outputs": [],
   "source": [
    "# Cell 03\n",
    "\n",
    "import matplotlib.pyplot as plt\n",
    "\n",
    "xa = np.linspace(0, 5, 100)\n",
    "n = [factorial_recursive(i) for i in range(6)]\n",
    "plt.plot(xa, factorial_gamma(xa), label=r\"$\\Gamma \\left( x + 1 \\right)$\")\n",
    "plt.plot(range(len(n)), n, color=\"red\", marker=\"o\", label=\"$n!$\")\n",
    "plt.title(\"Factorial Via Euler's Gamma Function\")\n",
    "plt.xlabel(\"x\")\n",
    "plt.ylabel(\"Factorial (x)\")\n",
    "plt.xlim(0, 5.1)\n",
    "plt.legend(loc=\"upper left\", framealpha=1.0, facecolor=\"white\")\n",
    "plt.grid(\"on\")"
   ]
  },
  {
   "cell_type": "code",
   "execution_count": null,
   "metadata": {},
   "outputs": [],
   "source": [
    "# Cell 04\n",
    "\n",
    "plt.plot(xa, factorial_gamma(xa), label=r\"$\\Gamma \\left( x + 1 \\right)$\")\n",
    "plt.plot(range(len(n)), n, color=\"red\", marker=\"o\", label=\"$n!$\")\n",
    "plt.title(\"Factorial Via Euler's Gamma Function\")\n",
    "plt.xlabel(\"x\")\n",
    "plt.ylabel(\"Factorial (x)\")\n",
    "plt.xlim(0, 2.1)\n",
    "plt.ylim(0.5, 2.1)\n",
    "plt.legend(loc=\"upper left\", framealpha=1.0, facecolor=\"white\")\n",
    "plt.grid(\"on\")"
   ]
  }
 ],
 "metadata": {
  "kernelspec": {
   "display_name": "qis101",
   "language": "python",
   "name": "python3"
  },
  "language_info": {
   "codemirror_mode": {
    "name": "ipython",
    "version": 3
   },
   "file_extension": ".py",
   "mimetype": "text/x-python",
   "name": "python",
   "nbconvert_exporter": "python",
   "pygments_lexer": "ipython3",
   "version": "3.12.11"
  }
 },
 "nbformat": 4,
 "nbformat_minor": 2
}
