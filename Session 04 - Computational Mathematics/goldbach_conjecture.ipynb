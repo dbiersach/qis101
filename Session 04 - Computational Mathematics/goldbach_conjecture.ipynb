{
 "cells": [
  {
   "cell_type": "code",
   "execution_count": null,
   "metadata": {},
   "outputs": [],
   "source": [
    "\"\"\"goldbach_conjecture.ipynb\"\"\"\n",
    "\n",
    "# Cell 01\n",
    "\n",
    "import numpy as np\n",
    "from sympy import prime\n",
    "\n",
    "test_limit = 99\n",
    "\n",
    "# Use a list comprehension to create an array of the first 'n' primes\n",
    "primes = np.array([prime(n + 1) for n in range(test_limit)])\n",
    "\n",
    "print(primes[:10])\n",
    "print(primes[-10:])"
   ]
  },
  {
   "cell_type": "code",
   "execution_count": null,
   "metadata": {},
   "outputs": [],
   "source": [
    "# Cell 02 - Generate all pairs of primes (with repetition)\n",
    "\n",
    "from itertools import combinations_with_replacement\n",
    "\n",
    "prime_pairs = [*combinations_with_replacement(primes, 2)]\n",
    "\n",
    "print(f\"Number of unique pairs of primes = {len(prime_pairs):,}\")\n",
    "\n",
    "[*zip(prime_pairs[:5], prime_pairs[99:], prime_pairs[197:])]"
   ]
  },
  {
   "cell_type": "code",
   "execution_count": null,
   "metadata": {},
   "outputs": [],
   "source": [
    "# Cell 03 - Create a sorted array containing the unique sums of each prime pairs\n",
    "\n",
    "summed_pairs = np.sort(np.unique(np.array([sum(pair) for pair in prime_pairs])))\n",
    "\n",
    "print(summed_pairs[:10])\n",
    "print(summed_pairs[-10:])"
   ]
  },
  {
   "cell_type": "code",
   "execution_count": null,
   "metadata": {},
   "outputs": [],
   "source": [
    "# Cell 04\n",
    "\n",
    "\"\"\"\n",
    "Determine which EVEN integers from 6 to 900 (inclusive) are NOT in\n",
    "the list of summed prime pairs. The numpy function setdiff1d() returns\n",
    "any elements in the first array that are not also in the second array\n",
    "\"\"\"\n",
    "\n",
    "violations = np.setdiff1d(range(4, 902, 2), summed_pairs)\n",
    "\n",
    "print(f\"Number of Goldbach violations up to 900: {len(violations)}\")\n",
    "if len(violations > 0):\n",
    "    print(violations)"
   ]
  }
 ],
 "metadata": {
  "kernelspec": {
   "display_name": "qis101",
   "language": "python",
   "name": "python3"
  },
  "language_info": {
   "codemirror_mode": {
    "name": "ipython",
    "version": 3
   },
   "file_extension": ".py",
   "mimetype": "text/x-python",
   "name": "python",
   "nbconvert_exporter": "python",
   "pygments_lexer": "ipython3",
   "version": "3.12.9"
  }
 },
 "nbformat": 4,
 "nbformat_minor": 2
}
