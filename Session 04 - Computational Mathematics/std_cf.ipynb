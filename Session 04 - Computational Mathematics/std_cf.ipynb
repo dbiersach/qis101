{
 "cells": [
  {
   "cell_type": "code",
   "execution_count": null,
   "metadata": {},
   "outputs": [],
   "source": [
    "\"\"\"std_cf.ipynb\"\"\"\n",
    "\n",
    "# Cell 01\n",
    "\n",
    "\n",
    "def encode_cf(x):\n",
    "    cf: list[int] = []\n",
    "    while len(cf) < 20:  # MAX TERMS\n",
    "        cf.append(int(x))\n",
    "        x = x - int(x)\n",
    "        if x < 1e-11:\n",
    "            break\n",
    "        x = 1 / x\n",
    "    # \"Normalize\" the continued fraction\n",
    "    if cf[-1] == 1 and cf[-2] != 1:\n",
    "        cf[int(-2)] += 1\n",
    "        cf.pop(-1)\n",
    "    return cf\n",
    "\n",
    "\n",
    "encode_cf(3.245)"
   ]
  },
  {
   "cell_type": "code",
   "execution_count": null,
   "metadata": {},
   "outputs": [],
   "source": [
    "# Cell 02\n",
    "\n",
    "\n",
    "def decode_cf(cf):\n",
    "    h_n, k_n = 0, 0\n",
    "    b_1, h_1, k_1 = 1, 1, 0\n",
    "    h_2, k_2 = 0, 1\n",
    "    for term in cf:\n",
    "        a_n, b_n = term, 1\n",
    "        h_n = a_n * h_1 + b_1 * h_2\n",
    "        k_n = a_n * k_1 + b_1 * k_2\n",
    "        b_1 = b_n\n",
    "        h_1, h_2 = h_n, h_1\n",
    "        k_1, k_2 = k_n, k_1\n",
    "    return h_n / k_n\n",
    "\n",
    "\n",
    "# decode_cf([3, 4, 12, 4])\n",
    "decode_cf([0, 1, 4, 1, 2, 2])"
   ]
  },
  {
   "cell_type": "code",
   "execution_count": null,
   "metadata": {},
   "outputs": [],
   "source": [
    "# Cell 03\n",
    "\n",
    "\n",
    "def eval_cf(x):\n",
    "    cf = encode_cf(x)\n",
    "    x2 = decode_cf(cf)\n",
    "    print(f\"{x} -> {cf} -> {x2}\")\n",
    "\n",
    "\n",
    "eval_cf(3.245)  # Type 1: Finite CF"
   ]
  },
  {
   "cell_type": "code",
   "execution_count": null,
   "metadata": {},
   "outputs": [],
   "source": [
    "# Cell 04\n",
    "\n",
    "import math\n",
    "\n",
    "eval_cf(math.sqrt(2))  # Type 2: Infinite CF with repeating SEQUENCE"
   ]
  },
  {
   "cell_type": "code",
   "execution_count": null,
   "metadata": {},
   "outputs": [],
   "source": [
    "# Cell 05\n",
    "\n",
    "eval_cf(math.sqrt(113))  # Type 2: Infinite CF with repeating SEQUENCE"
   ]
  },
  {
   "cell_type": "code",
   "execution_count": null,
   "metadata": {},
   "outputs": [],
   "source": [
    "# Cell 06\n",
    "\n",
    "eval_cf(math.e)  # Type 2: Infinite CF with repeating PATTERN"
   ]
  },
  {
   "cell_type": "code",
   "execution_count": null,
   "metadata": {},
   "outputs": [],
   "source": [
    "# Cell 07\n",
    "\n",
    "golden_ratio = (1 + math.sqrt(5)) / 2\n",
    "\n",
    "eval_cf(golden_ratio)  # The most simple Infinite CF possible!"
   ]
  }
 ],
 "metadata": {
  "kernelspec": {
   "display_name": "qis101",
   "language": "python",
   "name": "python3"
  },
  "language_info": {
   "codemirror_mode": {
    "name": "ipython",
    "version": 3
   },
   "file_extension": ".py",
   "mimetype": "text/x-python",
   "name": "python",
   "nbconvert_exporter": "python",
   "pygments_lexer": "ipython3",
   "version": "3.12.9"
  }
 },
 "nbformat": 4,
 "nbformat_minor": 2
}
