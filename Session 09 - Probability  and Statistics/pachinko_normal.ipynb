{
 "cells": [
  {
   "cell_type": "markdown",
   "metadata": {
    "id": "xSJHzN1gNkKv"
   },
   "source": [
    "Define a `numba` accelerated function to simulate dropping $num\\_balls$\\\n",
    "through $num\\_levels$ down through the pachinko machine.\\\n",
    "The function returns the array $balls$ which contains the <u>final</u> slot number of each dropped ball"
   ]
  },
  {
   "cell_type": "code",
   "execution_count": null,
   "metadata": {
    "id": "66-TBVH3Nqw5"
   },
   "outputs": [],
   "source": [
    "\"\"\"pachinko_normal.ipynb\"\"\"\n",
    "\n",
    "# Cell 01\n",
    "\n",
    "import numpy as np\n",
    "from numba import njit\n",
    "\n",
    "\n",
    "@njit\n",
    "def pachinko_normal(num_balls, num_levels):\n",
    "    np.random.seed(2016)\n",
    "    balls = np.zeros(num_balls)\n",
    "    for ball_num in range(num_balls):\n",
    "        slot = 0\n",
    "        for _ in range(num_levels):\n",
    "            slot += -1 if np.random.rand() < 0.5 else 1\n",
    "        balls[ball_num] = slot // 2\n",
    "    return balls\n",
    "\n",
    "\n",
    "pachinko_normal(num_balls=5, num_levels=10)\n"
   ]
  },
  {
   "cell_type": "markdown",
   "metadata": {
    "id": "AFD5bxtDOrZq"
   },
   "source": [
    "Define a function to graphically compare the distribution of balls dropped through a pachinko game \\\n",
    "with the exact (analytic) Gaussian __normal distribution__"
   ]
  },
  {
   "cell_type": "code",
   "execution_count": null,
   "metadata": {
    "id": "wOxHqdvzSZjw"
   },
   "outputs": [],
   "source": [
    "# Cell 02\n",
    "\n",
    "import matplotlib.pyplot as plt\n",
    "import scipy\n",
    "\n",
    "\n",
    "def run_simulation(total_balls, total_levels):\n",
    "    # Simulate the pachinko machine\n",
    "    balls = pachinko_normal(total_balls, total_levels)\n",
    "\n",
    "    # Calculate the mean number of of balls in each slot\n",
    "    slots = np.zeros(total_levels + 1)\n",
    "    first_slot = total_levels // 2\n",
    "    for ball_num in range(total_balls):\n",
    "        slot_num = int(first_slot + balls.take(ball_num))\n",
    "        slots[slot_num] += 1\n",
    "    slots = slots / total_balls\n",
    "\n",
    "    # Create an array of slot numbers\n",
    "    x = np.linspace(-total_levels // 2, total_levels // 2, total_levels + 1)\n",
    "\n",
    "    # Calculate the expected number of balls in each slot\n",
    "    mu = np.mean(balls)\n",
    "    sigma = np.std(balls)\n",
    "\n",
    "    # Create arrays to hold the values of a perfect normal distribution\n",
    "    norm_x = np.linspace(-total_levels // 2, total_levels // 2, 100)\n",
    "    norm_y = scipy.stats.norm(mu, sigma).pdf(norm_x)\n",
    "\n",
    "    # Plot the results\n",
    "    plt.plot(x, slots, color=\"blue\", linewidth=2, label=\"Pachinko PDF\")\n",
    "    plt.plot(norm_x, norm_y, color=\"red\", linewidth=2, label=\"Normal PDF\")\n",
    "    plt.title(\n",
    "        f\"Pachinko vs. Normal PDF ({total_balls:,} balls : {total_levels:,} levels)\"\n",
    "    )\n",
    "    plt.xlabel(\"Slot Number\")\n",
    "    plt.ylabel(\"Probability\")\n",
    "    plt.legend(loc=\"upper right\")\n",
    "\n",
    "\n",
    "run_simulation(total_balls=1_000, total_levels=10)"
   ]
  },
  {
   "cell_type": "code",
   "execution_count": null,
   "metadata": {
    "id": "ORV9Rt9OTTA3"
   },
   "outputs": [],
   "source": [
    "# Cell 03\n",
    "\n",
    "run_simulation(total_balls=10_000, total_levels=10)"
   ]
  },
  {
   "cell_type": "code",
   "execution_count": null,
   "metadata": {
    "id": "K2eD9E-NTWAb"
   },
   "outputs": [],
   "source": [
    "# Cell 04\n",
    "\n",
    "run_simulation(total_balls=100_000, total_levels=20)"
   ]
  },
  {
   "cell_type": "code",
   "execution_count": null,
   "metadata": {
    "id": "-WtbXvVeTZnZ"
   },
   "outputs": [],
   "source": [
    "# Cell 05\n",
    "\n",
    "run_simulation(total_balls=1_000_000, total_levels=40)"
   ]
  },
  {
   "cell_type": "code",
   "execution_count": null,
   "metadata": {
    "id": "hOLHdGw4TjWx"
   },
   "outputs": [],
   "source": [
    "# Cell 06\n",
    "\n",
    "run_simulation(total_balls=1_000_000, total_levels=80)"
   ]
  }
 ],
 "metadata": {
  "colab": {
   "provenance": []
  },
  "kernelspec": {
   "display_name": "qis101",
   "language": "python",
   "name": "python3"
  },
  "language_info": {
   "codemirror_mode": {
    "name": "ipython",
    "version": 3
   },
   "file_extension": ".py",
   "mimetype": "text/x-python",
   "name": "python",
   "nbconvert_exporter": "python",
   "pygments_lexer": "ipython3",
   "version": "3.12.9"
  }
 },
 "nbformat": 4,
 "nbformat_minor": 0
}
