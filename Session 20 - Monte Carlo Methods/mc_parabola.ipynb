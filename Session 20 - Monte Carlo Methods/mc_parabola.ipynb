{
 "cells": [
  {
   "cell_type": "markdown",
   "metadata": {
    "id": "Bim4Ue14INto"
   },
   "source": [
    "Declare a numba accelerated function that computes the Halton QRNG\n",
    "1. The parameter $n$ is an integer of any size\n",
    "2. The parameter $p$ is a prime number"
   ]
  },
  {
   "cell_type": "code",
   "execution_count": null,
   "metadata": {
    "id": "177ON6MWITc2"
   },
   "outputs": [],
   "source": [
    "\"\"\"mc_parabola.ipynb\"\"\"\n",
    "\n",
    "# Cell 01\n",
    "\n",
    "from numba import float64, int64, vectorize\n",
    "\n",
    "\n",
    "@vectorize([float64(int64, int64)], nopython=True)\n",
    "def halton(n, p):\n",
    "    h, f = 0, 1\n",
    "    while n > 0:\n",
    "        f = f / p\n",
    "        h += (n % p) * f\n",
    "        n = int(n / p)\n",
    "    return h\n",
    "\n",
    "\n",
    "print(halton(10_000, 2))"
   ]
  },
  {
   "cell_type": "markdown",
   "metadata": {
    "id": "iQ9uANJix696"
   },
   "source": [
    "Set the `sample_area` boundaries and the number of samples (`total_dots`) to take"
   ]
  },
  {
   "cell_type": "code",
   "execution_count": null,
   "metadata": {
    "id": "oQvCUUOfyBA7"
   },
   "outputs": [],
   "source": [
    "# Cell 02\n",
    "\n",
    "from matplotlib.patches import Rectangle\n",
    "\n",
    "# ((x, y) anchor point, width, height)\n",
    "bbox = Rectangle((-2, 0), 4, 5).get_bbox()\n",
    "print(bbox)\n",
    "\n",
    "\n",
    "total_dots = 40_600\n",
    "print(f\"{total_dots = :,}\")"
   ]
  },
  {
   "cell_type": "markdown",
   "metadata": {
    "id": "6klCaL2tyI-N"
   },
   "source": [
    "Take $n$ \"random\" samples of 2D Cartesian points $(x,y)$ using the Halton sequence\n",
    "1. Scale the results so $-2\\le x_{qrng}\\leq 2$ and $0\\le y_{qrng}\\leq 5$\n",
    "2. The sample area is thus $(-2...2)\\times(0...5)=20$\n"
   ]
  },
  {
   "cell_type": "code",
   "execution_count": null,
   "metadata": {
    "id": "AIKxn09O0Bq0"
   },
   "outputs": [],
   "source": [
    "# Cell 03\n",
    "\n",
    "import numpy as np\n",
    "import pandas as pd\n",
    "\n",
    "x = (1 - halton(np.arange(total_dots), 2)) * bbox.width + bbox.x0\n",
    "y = (1 - halton(np.arange(total_dots), 3)) * bbox.height + bbox.y0\n",
    "\n",
    "pd.DataFrame({\"x\": x[:5], \"y\": y[:5]})"
   ]
  },
  {
   "cell_type": "markdown",
   "metadata": {
    "id": "8Qeu9zj30tyk"
   },
   "source": [
    "Create an array $d$ containing $y_{rnd}-f(x_{rnd})$\n"
   ]
  },
  {
   "cell_type": "code",
   "execution_count": null,
   "metadata": {
    "id": "m6grmT5z0kkp"
   },
   "outputs": [],
   "source": [
    "# Cell 04\n",
    "\n",
    "d = y - (4 - x**2)\n",
    "\n",
    "pd.DataFrame({\"x\": x[:5], \"y\": y[:5], \"d\": d[:5]})"
   ]
  },
  {
   "cell_type": "markdown",
   "metadata": {
    "id": "K0mEgxDb1Bpg"
   },
   "source": [
    "Create arrays of $(x,y)$ coordinates that are \"above\" or \"on or below\" the parabola\\\n",
    "Here $f(x)=4-x^2$ so if $d>0$ then the sample point is \"above\" the curve"
   ]
  },
  {
   "cell_type": "code",
   "execution_count": null,
   "metadata": {
    "id": "3HQUPmY71S1D"
   },
   "outputs": [],
   "source": [
    "# Cell 05\n",
    "\n",
    "x_in = x[d <= 0.0]\n",
    "y_in = y[d <= 0.0]\n",
    "x_out = x[d > 0.0]\n",
    "y_out = y[d > 0.0]\n",
    "\n",
    "pd.DataFrame(\n",
    "    {\"x_in\": x_in[:5], \"y_in\": y_in[:5], \"x_out\": x_out[:5], \"y_out\": y_out[:5]}\n",
    ")"
   ]
  },
  {
   "cell_type": "markdown",
   "metadata": {
    "id": "jbxuFMXC2tTP"
   },
   "source": [
    "Display the scatter plot of the Monte Carlo estimation"
   ]
  },
  {
   "cell_type": "code",
   "execution_count": null,
   "metadata": {
    "id": "XLZ_vbEI3J5Y"
   },
   "outputs": [],
   "source": [
    "# Cell 06\n",
    "\n",
    "import matplotlib.pyplot as plt\n",
    "\n",
    "plt.figure(figsize=(8, 6))\n",
    "plt.scatter(x_in, y_in, color=\"red\", marker=\".\", s=0.5)\n",
    "plt.scatter(x_out, y_out, color=\"blue\", marker=\".\", s=0.5)\n",
    "plt.title(\"$y=-x^2+4$\")\n",
    "plt.xlabel(\"x\")\n",
    "plt.ylabel(\"y\")\n",
    "plt.show()"
   ]
  },
  {
   "cell_type": "markdown",
   "metadata": {
    "id": "6KUUODaI1oEe"
   },
   "source": [
    "Calculate the absolute percent error in the area estimation\n",
    "1. The actual/expected definite integral is $\\dfrac{32}{3}=10.6666...$\n",
    "2. The observed/estimated area using the Monte Carlo formulation $=20\\times\\dfrac{dots_{\\ inside}}{dots_{\\ total}}$\n"
   ]
  },
  {
   "cell_type": "code",
   "execution_count": null,
   "metadata": {
    "id": "BYwh3Ej32np3"
   },
   "outputs": [],
   "source": [
    "# Cell 07\n",
    "\n",
    "act = 32 / 3\n",
    "est = (bbox.width * bbox.height) * np.count_nonzero(d <= 0) / total_dots\n",
    "err = np.abs((est - act) / act)\n",
    "\n",
    "print(f\"dots = {total_dots:,}\")\n",
    "print(f\"act = {act:.6f}\")\n",
    "print(f\"est = {est:.6f}\")\n",
    "print(f\"err = {err:.5%}\")"
   ]
  }
 ],
 "metadata": {
  "colab": {
   "provenance": []
  },
  "kernelspec": {
   "display_name": "qis101",
   "language": "python",
   "name": "python3"
  },
  "language_info": {
   "codemirror_mode": {
    "name": "ipython",
    "version": 3
   },
   "file_extension": ".py",
   "mimetype": "text/x-python",
   "name": "python",
   "nbconvert_exporter": "python",
   "pygments_lexer": "ipython3",
   "version": "3.12.11"
  }
 },
 "nbformat": 4,
 "nbformat_minor": 0
}
