{
 "cells": [
  {
   "cell_type": "markdown",
   "metadata": {
    "id": "Bim4Ue14INto"
   },
   "source": [
    "Declare a numba accelerated function that computes the Halton QRNG\n",
    "1. The parameter $n$ is an integer of any size\n",
    "2. The parameter $p$ is a prime number"
   ]
  },
  {
   "cell_type": "code",
   "execution_count": null,
   "metadata": {
    "id": "177ON6MWITc2"
   },
   "outputs": [],
   "source": [
    "\"\"\"mc_sphere.ipynb\"\"\"\n",
    "\n",
    "# Cell 01\n",
    "\n",
    "import numpy as np\n",
    "from numba import float64, int64, vectorize\n",
    "\n",
    "\n",
    "@vectorize([float64(int64, int64)], nopython=True)\n",
    "def halton(n, p):\n",
    "    h, f = 0, 1\n",
    "    while n > 0:\n",
    "        f = f / p\n",
    "        h += (n % p) * f\n",
    "        n = int(n / p)\n",
    "    return h\n",
    "\n",
    "\n",
    "print(halton(10_000, 2))"
   ]
  },
  {
   "cell_type": "markdown",
   "metadata": {
    "id": "iQ9uANJix696"
   },
   "source": [
    "Set the total number of dots (samples) to take"
   ]
  },
  {
   "cell_type": "code",
   "execution_count": null,
   "metadata": {
    "id": "oQvCUUOfyBA7"
   },
   "outputs": [],
   "source": [
    "# Cell 02\n",
    "\n",
    "total_dots = 125_000\n",
    "\n",
    "print(f\"{total_dots = :,}\")"
   ]
  },
  {
   "cell_type": "markdown",
   "metadata": {
    "id": "6klCaL2tyI-N"
   },
   "source": [
    "Create `total_dots` samples of 3D Cartesian points $(x,y,z)$ using the Halton sequence\n",
    "1. The Halton QRNG returns a random float [0,1)\n",
    "2. Subtract that float from 1 which makes the interval flip to become (0,1]\\\n",
    "   This ensures that any points exactly on the *surface* will now contribute to the volume\n",
    "3. Scale the result so it now falls in the interval [-1, 1]\n"
   ]
  },
  {
   "cell_type": "code",
   "execution_count": null,
   "metadata": {
    "id": "AIKxn09O0Bq0"
   },
   "outputs": [],
   "source": [
    "# Cell 03\n",
    "\n",
    "import pandas as pd\n",
    "\n",
    "x = (1 - halton(np.arange(total_dots), 2)) * 2 - 1\n",
    "y = (1 - halton(np.arange(total_dots), 3)) * 2 - 1\n",
    "z = (1 - halton(np.arange(total_dots), 5)) * 2 - 1\n",
    "\n",
    "pd.DataFrame({\"x\": x[:5], \"y\": y[:5], \"z\": z[:5]})"
   ]
  },
  {
   "cell_type": "markdown",
   "metadata": {
    "id": "8Qeu9zj30tyk"
   },
   "source": [
    "**Create an array $d$ that contains the distance from the origin $(0,0)$ for every point $(x,y,z)$**\\\n",
    "Leverage the fact the exponentiation and addition operators are \"vector aware\""
   ]
  },
  {
   "cell_type": "code",
   "execution_count": null,
   "metadata": {
    "id": "m6grmT5z0kkp"
   },
   "outputs": [],
   "source": [
    "# Cell 04\n",
    "\n",
    "d = np.sqrt(x**2 + y**2 + z**2)\n",
    "\n",
    "pd.DataFrame({\"x\": x[:5], \"y\": y[:5], \"z\": z[:5], \"d\": d[:5]})"
   ]
  },
  {
   "cell_type": "markdown",
   "metadata": {
    "id": "K0mEgxDb1Bpg"
   },
   "source": [
    "Create arrays of $(x,y)$ coordinates that are \"on or inside\" vs. \"outside\" the sphere\\\n",
    "using the Pythagorean distance $d$\\\n",
    "Leverage the ability to `filter` numpy arrays using a conditional expression"
   ]
  },
  {
   "cell_type": "code",
   "execution_count": null,
   "metadata": {
    "id": "3HQUPmY71S1D"
   },
   "outputs": [],
   "source": [
    "# Cell 05\n",
    "\n",
    "# On the surface (or inside) the sphere\n",
    "x_in = x[d <= 1.0]\n",
    "y_in = y[d <= 1.0]\n",
    "z_in = z[d <= 1.0]\n",
    "\n",
    "# Outside the sphere\n",
    "x_out = x[d > 1.0]\n",
    "y_out = y[d > 1.0]\n",
    "z_out = z[d > 1.0]\n",
    "\n",
    "pd.DataFrame(\n",
    "    {\n",
    "        \"x_in\": x_in[:5],\n",
    "        \"y_in\": y_in[:5],\n",
    "        \"z_in\": z_in[:5],\n",
    "        \"x_out\": x_out[:5],\n",
    "        \"y_out\": y_out[:5],\n",
    "        \"z_out\": z_out[:5],\n",
    "    }\n",
    ")"
   ]
  },
  {
   "cell_type": "markdown",
   "metadata": {
    "id": "jbxuFMXC2tTP"
   },
   "source": [
    "Display the scatter plot of the Monte Carlo estimation"
   ]
  },
  {
   "cell_type": "code",
   "execution_count": null,
   "metadata": {
    "id": "XLZ_vbEI3J5Y"
   },
   "outputs": [],
   "source": [
    "# Cell 06\n",
    "\n",
    "import matplotlib.pyplot as plt\n",
    "\n",
    "plt.figure(figsize=(10, 10))\n",
    "ax = plt.axes(projection=\"3d\")\n",
    "ax.view_init(azim=-72, elev=48)\n",
    "ax.scatter(x_in, y_in, z_in, color=\"red\", marker=\".\", s=0.1)\n",
    "ax.scatter(x_out, y_out, z_out, color=\"blue\", marker=\".\", s=0.1)\n",
    "plt.gca().set_aspect(\"equal\")\n",
    "plt.show()"
   ]
  },
  {
   "cell_type": "markdown",
   "metadata": {
    "id": "6KUUODaI1oEe"
   },
   "source": [
    "Calculate the absolute percent error in the area estimation\n",
    "1. The actual/expected volume of a unit sphere is exactly $\\frac{4}{3}\\pi$\n",
    "2. The observed/estimated volume using the Monte Carlo formulation $=8\\times\\dfrac{dots_{\\ inside}}{dots_{\\ total}}$\n",
    "3. The sample volume has length, width, and height of two $\\to 2\\times 2\\times 2=8$\n"
   ]
  },
  {
   "cell_type": "code",
   "execution_count": null,
   "metadata": {
    "id": "BYwh3Ej32np3"
   },
   "outputs": [],
   "source": [
    "# Cell 07\n",
    "\n",
    "act = 4 / 3 * np.pi\n",
    "est = 8 * np.count_nonzero(d <= 1.0) / total_dots\n",
    "err = np.abs((est - act) / act)\n",
    "\n",
    "print(f\"dots = {total_dots:,}\")\n",
    "print(f\"act = {act:.6f}\")\n",
    "print(f\"est = {est:.6f}\")\n",
    "print(f\"err = {err:.5%}\")"
   ]
  }
 ],
 "metadata": {
  "colab": {
   "provenance": []
  },
  "kernelspec": {
   "display_name": "qis101",
   "language": "python",
   "name": "python3"
  },
  "language_info": {
   "codemirror_mode": {
    "name": "ipython",
    "version": 3
   },
   "file_extension": ".py",
   "mimetype": "text/x-python",
   "name": "python",
   "nbconvert_exporter": "python",
   "pygments_lexer": "ipython3",
   "version": "3.12.11"
  }
 },
 "nbformat": 4,
 "nbformat_minor": 0
}
