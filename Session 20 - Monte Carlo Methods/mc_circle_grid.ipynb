{
 "cells": [
  {
   "cell_type": "markdown",
   "metadata": {
    "id": "iQ9uANJix696"
   },
   "source": [
    "Set the `sample_area` boundaries and the number of samples (`total_dots`) to take"
   ]
  },
  {
   "cell_type": "code",
   "execution_count": null,
   "metadata": {
    "id": "oQvCUUOfyBA7"
   },
   "outputs": [],
   "source": [
    "\"\"\"mc_circle_grid.ipynb\"\"\"\n",
    "\n",
    "# Cell 01\n",
    "\n",
    "from matplotlib.patches import Rectangle\n",
    "\n",
    "# ((x, y) anchor point, width, height)\n",
    "bbox = Rectangle((-1, -1), 2, 2).get_bbox()\n",
    "print(bbox)\n",
    "\n",
    "side_dots = 320\n",
    "total_dots = side_dots**2\n",
    "print(f\"{total_dots = :,}\")"
   ]
  },
  {
   "cell_type": "markdown",
   "metadata": {
    "id": "6klCaL2tyI-N"
   },
   "source": [
    "Create linearly spaced arrays spanning the x & y dimensions\\\n",
    "(number of # intervals =`side_dots`)\n",
    "1. Set $-1\\le x\\le 1$ and $-1\\le y\\le 1$\n",
    "2. Create a `meshgrid` at every pairing of the $x$ and $y$ values"
   ]
  },
  {
   "cell_type": "code",
   "execution_count": null,
   "metadata": {
    "id": "AIKxn09O0Bq0"
   },
   "outputs": [],
   "source": [
    "# Cell 02\n",
    "\n",
    "import numpy as np\n",
    "import pandas as pd\n",
    "\n",
    "x = np.linspace(bbox.x0, bbox.x1, side_dots)  # type: ignore\n",
    "y = np.linspace(bbox.y0, bbox.y1, side_dots)  # type: ignore\n",
    "\n",
    "xv, yv = np.meshgrid(x, y)\n",
    "x = xv.flatten()\n",
    "y = yv.flatten()\n",
    "\n",
    "pd.DataFrame({\"x\": x[:5], \"y\": y[:5]})"
   ]
  },
  {
   "cell_type": "markdown",
   "metadata": {
    "id": "8Qeu9zj30tyk"
   },
   "source": [
    "**Create an array $d$ that contains the distance from the origin $(0,0)$ for every point $(x,y)$**\\\n",
    "Leverage the fact the exponentiation and addition operators are \"vector aware\""
   ]
  },
  {
   "cell_type": "code",
   "execution_count": null,
   "metadata": {
    "id": "m6grmT5z0kkp"
   },
   "outputs": [],
   "source": [
    "# Cell 03\n",
    "\n",
    "d = np.sqrt(x**2 + y**2)\n",
    "\n",
    "pd.DataFrame({\"x\": x[:5], \"y\": y[:5], \"d\": d[:5]})"
   ]
  },
  {
   "cell_type": "markdown",
   "metadata": {
    "id": "K0mEgxDb1Bpg"
   },
   "source": [
    "Create arrays of $(x,y)$ coordinates that are \"on or inside\" vs. \"outside\" the circle\\\n",
    "using the Pythagorean distance $d$\\\n",
    "Leverage the ability to `filter` numpy arrays using a conditional expression"
   ]
  },
  {
   "cell_type": "code",
   "execution_count": null,
   "metadata": {
    "id": "3HQUPmY71S1D"
   },
   "outputs": [],
   "source": [
    "# Cell 04\n",
    "\n",
    "x_in = x[d <= 1.0]  # On or inside the circle\n",
    "y_in = y[d <= 1.0]\n",
    "x_out = x[d > 1.0]  # Outside the circle\n",
    "y_out = y[d > 1.0]\n",
    "\n",
    "pd.DataFrame(\n",
    "    {\"x_in\": x_in[:5], \"y_in\": y_in[:5], \"x_out\": x_out[:5], \"y_out\": y_out[:5]}\n",
    ")"
   ]
  },
  {
   "cell_type": "markdown",
   "metadata": {
    "id": "jbxuFMXC2tTP"
   },
   "source": [
    "Display the scatter plot of the mesh grid estimation method"
   ]
  },
  {
   "cell_type": "code",
   "execution_count": null,
   "metadata": {
    "id": "XLZ_vbEI3J5Y"
   },
   "outputs": [],
   "source": [
    "# Cell 05\n",
    "\n",
    "import matplotlib.pyplot as plt\n",
    "\n",
    "plt.figure(figsize=(10, 10))\n",
    "plt.scatter(x_in, y_in, color=\"red\", marker=\".\", s=0.5)\n",
    "plt.scatter(x_out, y_out, color=\"blue\", marker=\".\", s=0.5)\n",
    "plt.gca().set_aspect(\"equal\")\n",
    "plt.show()"
   ]
  },
  {
   "cell_type": "markdown",
   "metadata": {
    "id": "6KUUODaI1oEe"
   },
   "source": [
    "Calculate the absolute percent error in the area estimation\n",
    "1. The actual/expected area of a unit circle is exactly $\\pi$\n",
    "2. The observed/estimated area using the uniform grid method $=4\\times\\dfrac{dots_{\\ inside}}{dots_{\\ total}}$\n"
   ]
  },
  {
   "cell_type": "code",
   "execution_count": null,
   "metadata": {
    "id": "BYwh3Ej32np3"
   },
   "outputs": [],
   "source": [
    "# Cell 06\n",
    "\n",
    "act = np.pi\n",
    "est = (bbox.width * bbox.height) * np.count_nonzero(d <= 1.0) / total_dots\n",
    "err = np.abs((est - act) / act)\n",
    "\n",
    "print(f\"dots = {total_dots:,}\")\n",
    "print(f\"act = {act:.6f}\")\n",
    "print(f\"est = {est:.6f}\")\n",
    "print(f\"err = {err:.5%}\")"
   ]
  }
 ],
 "metadata": {
  "colab": {
   "provenance": []
  },
  "kernelspec": {
   "display_name": "qis101",
   "language": "python",
   "name": "python3"
  },
  "language_info": {
   "codemirror_mode": {
    "name": "ipython",
    "version": 3
   },
   "file_extension": ".py",
   "mimetype": "text/x-python",
   "name": "python",
   "nbconvert_exporter": "python",
   "pygments_lexer": "ipython3",
   "version": "3.12.11"
  }
 },
 "nbformat": 4,
 "nbformat_minor": 0
}
