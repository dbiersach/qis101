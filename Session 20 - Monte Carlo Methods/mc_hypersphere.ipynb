{
 "cells": [
  {
   "cell_type": "markdown",
   "metadata": {
    "id": "Bim4Ue14INto"
   },
   "source": [
    "Declare a numba accelerated function that computes the Halton QRNG\n",
    "1. The parameter $n$ is an integer of any size\n",
    "2. The parameter $p$ is a prime number"
   ]
  },
  {
   "cell_type": "code",
   "execution_count": null,
   "metadata": {
    "id": "177ON6MWITc2"
   },
   "outputs": [],
   "source": [
    "\"\"\"mc_hypersphere.ipynb\"\"\"\n",
    "\n",
    "# Cell 01\n",
    "\n",
    "import numpy as np\n",
    "from numba import float64, int64, vectorize\n",
    "\n",
    "\n",
    "@vectorize([float64(int64, int64)], nopython=True)\n",
    "def halton(n, p):\n",
    "    h, f = 0, 1\n",
    "    while n > 0:\n",
    "        f = f / p\n",
    "        h += (n % p) * f\n",
    "        n = int(n / p)\n",
    "    return h\n",
    "\n",
    "\n",
    "print(halton(10_000, 2))"
   ]
  },
  {
   "cell_type": "markdown",
   "metadata": {
    "id": "iQ9uANJix696"
   },
   "source": [
    "Set the total number of samples to take"
   ]
  },
  {
   "cell_type": "code",
   "execution_count": null,
   "metadata": {
    "id": "oQvCUUOfyBA7"
   },
   "outputs": [],
   "source": [
    "# Cell 02\n",
    "\n",
    "total_dots = 6_250_000\n",
    "\n",
    "print(f\"{total_dots = :,}\")"
   ]
  },
  {
   "cell_type": "markdown",
   "metadata": {
    "id": "6klCaL2tyI-N"
   },
   "source": [
    "Create `total_dots` samples of 4D Cartesian points $(x,y,z,w)$ using the Halton sequence\n",
    "1. The Halton QRNG returns a random float [0,1)\n",
    "2. Subtract that float from 1 which makes the interval flip to become (0,1]\\\n",
    "   This ensures that any points exactly on the *hyper-surface* will now contribute to the <b>content</b>\n",
    "3. Scale the result so it now falls in the interval [-1, 1]"
   ]
  },
  {
   "cell_type": "code",
   "execution_count": null,
   "metadata": {
    "id": "AIKxn09O0Bq0"
   },
   "outputs": [],
   "source": [
    "# Cell  03\n",
    "\n",
    "import pandas as pd\n",
    "\n",
    "x = (1 - halton(np.arange(total_dots), 2)) * 2 - 1\n",
    "y = (1 - halton(np.arange(total_dots), 3)) * 2 - 1\n",
    "z = (1 - halton(np.arange(total_dots), 5)) * 2 - 1\n",
    "w = (1 - halton(np.arange(total_dots), 7)) * 2 - 1\n",
    "\n",
    "pd.DataFrame({\"x\": x[:5], \"y\": y[:5], \"z\": z[:5], \"w\": w[:5]})"
   ]
  },
  {
   "cell_type": "markdown",
   "metadata": {
    "id": "8Qeu9zj30tyk"
   },
   "source": [
    "Create an array $d$ that contains the distance from the origin $(0,0,0,0)$ for every point $(x,y,z,w)$\\\n",
    "Leverage the fact the exponentiation and addition operators are \"vector aware\""
   ]
  },
  {
   "cell_type": "code",
   "execution_count": null,
   "metadata": {
    "id": "m6grmT5z0kkp"
   },
   "outputs": [],
   "source": [
    "# Cell 04\n",
    "\n",
    "d = np.sqrt(x**2 + y**2 + z**2 + w**2)\n",
    "\n",
    "pd.DataFrame({\"x\": x[:5], \"y\": y[:5], \"z\": z[:5], \"w\": w[:5], \"d\": d[:5]})"
   ]
  },
  {
   "cell_type": "markdown",
   "metadata": {
    "id": "6KUUODaI1oEe"
   },
   "source": [
    "Calculate the absolute percent error in the content estimation\n",
    "1. The actual/expected content of a unit hypersphere is exactly $\\dfrac{\\pi^2}{2}$\n",
    "2. The observed/estimated content using the Monte Carlo formulation $=16\\times\\dfrac{dots_{\\ inside}}{dots_{\\ total}}$\n"
   ]
  },
  {
   "cell_type": "code",
   "execution_count": null,
   "metadata": {
    "id": "BYwh3Ej32np3"
   },
   "outputs": [],
   "source": [
    "# Cell 05\n",
    "\n",
    "act = np.pi**2 / 2\n",
    "est = 16 * np.count_nonzero(d <= 1.0) / total_dots\n",
    "err = np.abs((est - act) / act)\n",
    "\n",
    "print(f\"dots = {total_dots:,}\")\n",
    "print(f\"act = {act:.6f}\")\n",
    "print(f\"est = {est:.6f}\")\n",
    "print(f\"err = {err:.5%}\")"
   ]
  }
 ],
 "metadata": {
  "colab": {
   "provenance": []
  },
  "kernelspec": {
   "display_name": "qis101",
   "language": "python",
   "name": "python3"
  },
  "language_info": {
   "codemirror_mode": {
    "name": "ipython",
    "version": 3
   },
   "file_extension": ".py",
   "mimetype": "text/x-python",
   "name": "python",
   "nbconvert_exporter": "python",
   "pygments_lexer": "ipython3",
   "version": "3.12.11"
  }
 },
 "nbformat": 4,
 "nbformat_minor": 0
}
