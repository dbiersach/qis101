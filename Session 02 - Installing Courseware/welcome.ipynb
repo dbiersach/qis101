{
 "cells": [
  {
   "cell_type": "code",
   "execution_count": null,
   "id": "4e99db99",
   "metadata": {},
   "outputs": [],
   "source": [
    "\"\"\"welcome.ipynb\"\"\"\n",
    "\n",
    "# Cell 01\n",
    "\n",
    "import matplotlib.pyplot as plt\n",
    "import numpy as np\n",
    "\n",
    "x = np.linspace(-2, 2, 500)\n",
    "f_top = np.sqrt(1 - (np.abs(x) - 1) ** 2)\n",
    "f_bottom = np.arccos(1 - np.abs(x)) - np.pi\n",
    "\n",
    "plt.plot(x, f_top, color=\"red\")\n",
    "plt.plot(x, f_bottom, color=\"red\")\n",
    "plt.xlim(-3.5, 3.5)\n",
    "plt.ylim(-3.5, 1.5)\n",
    "plt.title(\"Welcome to QIS101\")\n",
    "plt.show()"
   ]
  }
 ],
 "metadata": {
  "kernelspec": {
   "display_name": "qis101",
   "language": "python",
   "name": "python3"
  },
  "language_info": {
   "codemirror_mode": {
    "name": "ipython",
    "version": 3
   },
   "file_extension": ".py",
   "mimetype": "text/x-python",
   "name": "python",
   "nbconvert_exporter": "python",
   "pygments_lexer": "ipython3",
   "version": "3.12.9"
  }
 },
 "nbformat": 4,
 "nbformat_minor": 5
}
