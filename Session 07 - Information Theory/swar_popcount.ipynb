{
 "cells": [
  {
   "cell_type": "code",
   "execution_count": null,
   "metadata": {},
   "outputs": [],
   "source": [
    "\"\"\"swar_popcount_.ipynb\"\"\"\n",
    "\n",
    "# Cell 01\n",
    "\n",
    "\n",
    "def popcount(n: int) -> int:\n",
    "    pop_count: int = 0\n",
    "    while n > 0:\n",
    "        pop_count = pop_count + n % 2\n",
    "        n = n // 2\n",
    "    return pop_count\n",
    "\n",
    "\n",
    "popcount(95601)"
   ]
  },
  {
   "cell_type": "code",
   "execution_count": null,
   "metadata": {},
   "outputs": [],
   "source": [
    "# Cell 02\n",
    "\n",
    "import numpy as np\n",
    "\n",
    "\n",
    "def popcount_swar(x: np.ndarray) -> np.ndarray:\n",
    "    \"\"\"\n",
    "    SWAR (“SIMD Within A Register”) parallel bit-count\n",
    "    Compute the population count (number of 1-bits) of each 32-bit unsigned integer in x\n",
    "    using the SWAR method. Works on NumPy arrays or scalars of dtype uint32.\n",
    "    \"\"\"\n",
    "    # ensure unsigned 32-bit\n",
    "    x = x.astype(np.uint32, copy=False)\n",
    "    # pairwise bit sums\n",
    "    x = x - ((x >> 1) & np.uint32(0x5555_5555))\n",
    "    # 2-bit sums into 4-bit fields\n",
    "    x = (x & np.uint32(0x3333_3333)) + ((x >> 2) & np.uint32(0x3333_3333))\n",
    "    # 4-bit sums into 8-bit fields\n",
    "    x = (x + (x >> 4)) & np.uint32(0x0F0F_0F0F)\n",
    "    # fold into lower byte\n",
    "    x = x + (x >> 8)\n",
    "    x = x + (x >> 16)\n",
    "    # mask to 6 bits (max popcount of 32 bits is 32 = 0b100000)\n",
    "    return (x & np.uint32(0x3F)).astype(np.uint8)\n",
    "\n",
    "\n",
    "print(popcount_swar(np.array([95601])))\n"
   ]
  },
  {
   "cell_type": "code",
   "execution_count": null,
   "metadata": {},
   "outputs": [],
   "source": [
    "# Cell 03\n",
    "\n",
    "import time\n",
    "\n",
    "np.random.seed(2019)\n",
    "x = np.random.randint(10_000_000, 100_000_000, size=1_000_000, dtype=np.int32)\n",
    "\n",
    "f = np.vectorize(popcount)  # type: ignore\n",
    "\n",
    "start_time = time.perf_counter()\n",
    "c = f(x)\n",
    "elapsed_time = time.perf_counter() - start_time\n",
    "\n",
    "print(x)\n",
    "print(c)\n",
    "\n",
    "print(f\"Naive popcount run time (sec): {elapsed_time:.3f}\")"
   ]
  },
  {
   "cell_type": "code",
   "execution_count": null,
   "metadata": {},
   "outputs": [],
   "source": [
    "# Cell 04\n",
    "\n",
    "start_time = time.perf_counter()\n",
    "c = popcount_swar(x)\n",
    "elapsed_time = time.perf_counter() - start_time\n",
    "\n",
    "print(x)\n",
    "print(c)\n",
    "\n",
    "print(f\"SWAR popcount run time (sec): {elapsed_time:.3f}\")"
   ]
  }
 ],
 "metadata": {
  "kernelspec": {
   "display_name": "qis101",
   "language": "python",
   "name": "python3"
  },
  "language_info": {
   "codemirror_mode": {
    "name": "ipython",
    "version": 3
   },
   "file_extension": ".py",
   "mimetype": "text/x-python",
   "name": "python",
   "nbconvert_exporter": "python",
   "pygments_lexer": "ipython3",
   "version": "3.12.9"
  }
 },
 "nbformat": 4,
 "nbformat_minor": 2
}
