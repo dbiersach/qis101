{
 "cells": [
  {
   "cell_type": "code",
   "execution_count": null,
   "metadata": {},
   "outputs": [],
   "source": [
    "\"\"\"reverse_string.ipynb\"\"\"\n",
    "\n",
    "# Cell 01\n",
    "\n",
    "s1 = \"Forever Young\"\n",
    "s1"
   ]
  },
  {
   "cell_type": "code",
   "execution_count": null,
   "metadata": {},
   "outputs": [],
   "source": [
    "# Cell 02 - Reverse via appending in descending order\n",
    "\n",
    "s2 = \"\"\n",
    "for i in range(len(s1) - 1, -1, -1):\n",
    "    s2 = s2 + s1[i]\n",
    "s2"
   ]
  },
  {
   "cell_type": "code",
   "execution_count": null,
   "metadata": {},
   "outputs": [],
   "source": [
    "# Cell 03 - Reverse via prepending in ascending order\n",
    "\n",
    "s3 = \"\"\n",
    "for c in s1:\n",
    "    s3 = c + s3\n",
    "s3"
   ]
  },
  {
   "cell_type": "code",
   "execution_count": null,
   "metadata": {},
   "outputs": [],
   "source": [
    "# Cell 04 - Use list slicing syntax\n",
    "\n",
    "s1[::-1]"
   ]
  }
 ],
 "metadata": {
  "kernelspec": {
   "display_name": "qis101",
   "language": "python",
   "name": "python3"
  },
  "language_info": {
   "codemirror_mode": {
    "name": "ipython",
    "version": 3
   },
   "file_extension": ".py",
   "mimetype": "text/x-python",
   "name": "python",
   "nbconvert_exporter": "python",
   "pygments_lexer": "ipython3",
   "version": "3.12.9"
  }
 },
 "nbformat": 4,
 "nbformat_minor": 2
}
