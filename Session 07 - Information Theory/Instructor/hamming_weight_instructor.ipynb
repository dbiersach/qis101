{
 "cells": [
  {
   "cell_type": "code",
   "execution_count": null,
   "metadata": {},
   "outputs": [],
   "source": [
    "\"\"\"hamming_weight_instructor.ipynb\"\"\"\n",
    "\n",
    "# Cell 01\n",
    "\n",
    "\n",
    "def popcount(n: int) -> int:\n",
    "    pop_count: int = 0\n",
    "    while n > 0:\n",
    "        pop_count = pop_count + n % 2\n",
    "        n = n // 2\n",
    "    return pop_count\n",
    "\n",
    "\n",
    "popcount(95601)"
   ]
  }
 ],
 "metadata": {
  "kernelspec": {
   "display_name": "qis101",
   "language": "python",
   "name": "python3"
  },
  "language_info": {
   "codemirror_mode": {
    "name": "ipython",
    "version": 3
   },
   "file_extension": ".py",
   "mimetype": "text/x-python",
   "name": "python",
   "nbconvert_exporter": "python",
   "pygments_lexer": "ipython3",
   "version": "3.12.9"
  }
 },
 "nbformat": 4,
 "nbformat_minor": 2
}
