{
 "cells": [
  {
   "cell_type": "code",
   "execution_count": null,
   "metadata": {},
   "outputs": [],
   "source": [
    "\"\"\"two_adjacent_bits_instructor.ipynb\"\"\"\n",
    "\n",
    "# Cell 01\n",
    "\n",
    "# Start with n = 3, which is the minimum integer that has\n",
    "# two adjacent one (1) bits. Then keep multiplying n by two,\n",
    "# thus shifting those two adjacent bits leftward by one position.\n",
    "# Count the number of times this shifting can be done while\n",
    "# n is within the interval [min_n, max_n]\n",
    "\n",
    "\n",
    "def two_adjacent_bits(min_n, max_n):\n",
    "    n, count = 3, 0\n",
    "    while True:\n",
    "        if n > max_n:\n",
    "            break\n",
    "        if n >= min_n:\n",
    "            count += 1\n",
    "        n *= 2\n",
    "    return count\n",
    "\n",
    "\n",
    "# Count = 7 as there are seven integers between 1 and 192\n",
    "# that have two adjacent one (1) bits in their binary expansion\n",
    "two_adjacent_bits(1, 192)"
   ]
  },
  {
   "cell_type": "code",
   "execution_count": null,
   "metadata": {},
   "outputs": [],
   "source": [
    "# Cell 02 - How many integers have two adjacent one(1) bits\n",
    "# that are between 10^25 and 10^45 (inclusive)?\n",
    "\n",
    "two_adjacent_bits(10**25, 10**45)"
   ]
  }
 ],
 "metadata": {
  "kernelspec": {
   "display_name": "qis101",
   "language": "python",
   "name": "python3"
  },
  "language_info": {
   "codemirror_mode": {
    "name": "ipython",
    "version": 3
   },
   "file_extension": ".py",
   "mimetype": "text/x-python",
   "name": "python",
   "nbconvert_exporter": "python",
   "pygments_lexer": "ipython3",
   "version": "3.12.9"
  }
 },
 "nbformat": 4,
 "nbformat_minor": 2
}
