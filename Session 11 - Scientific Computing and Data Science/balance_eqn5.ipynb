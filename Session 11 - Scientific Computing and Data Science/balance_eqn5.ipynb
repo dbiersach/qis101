{
 "cells": [
  {
   "cell_type": "markdown",
   "metadata": {},
   "source": [
    "$MnO_4^- + Fe^{2+} + H^+\\;→\\;Mn^{2+} + Fe^{3+} + H_2O$"
   ]
  },
  {
   "cell_type": "code",
   "execution_count": null,
   "metadata": {
    "id": "8AVgSEkDSPK8"
   },
   "outputs": [],
   "source": [
    "\"\"\"balance_eqn5.ipynb\"\"\"\n",
    "\n",
    "# Cell 01\n",
    "\n",
    "import pulp  # Python Linear Programming package\n",
    "\n",
    "x0 = pulp.LpVariable(name=\"x0\", lowBound=1, cat=\"Integer\")  # MnO4(-)\n",
    "x1 = pulp.LpVariable(name=\"x1\", lowBound=1, cat=\"Integer\")  # Fe(2+)\n",
    "x2 = pulp.LpVariable(name=\"x2\", lowBound=1, cat=\"Integer\")  # H(+)\n",
    "x3 = pulp.LpVariable(name=\"x3\", lowBound=1, cat=\"Integer\")  # Mn(2+)\n",
    "x4 = pulp.LpVariable(name=\"x4\", lowBound=1, cat=\"Integer\")  # Fe(3+)\n",
    "x5 = pulp.LpVariable(name=\"x5\", lowBound=1, cat=\"Integer\")  # H2O\n",
    "\n",
    "prob = pulp.LpProblem(sense=pulp.LpMinimize)\n",
    "prob.name = \"Equation #5\"\n",
    "\n",
    "prob += x0 == x3  # Manganese (Mn)\n",
    "prob += 4 * x0 == x5  # Oxygen (O)\n",
    "prob += x1 == x4  # Iron (Fe)\n",
    "prob += x2 == 2 * x5  # Hydrogen (H)\n",
    "prob += -x0 + 2 * x1 + x2 == 2 * x3 + 3 * x4  # Ionic Charges\n",
    "\n",
    "prob += pulp.lpSum([x0, x1, x2, x3, x4])\n",
    "\n",
    "prob.solve(pulp.PULP_CBC_CMD(msg=0))\n",
    "print(prob.name)\n",
    "print(f\"x0 = {pulp.value(x0):n}\")\n",
    "print(f\"x1 = {pulp.value(x1):n}\")\n",
    "print(f\"x2 = {pulp.value(x2):n}\")\n",
    "print(f\"x3 = {pulp.value(x3):n}\")\n",
    "print(f\"x4 = {pulp.value(x4):n}\")\n",
    "print(f\"x5 = {pulp.value(x5):n}\")"
   ]
  }
 ],
 "metadata": {
  "colab": {
   "provenance": []
  },
  "kernelspec": {
   "display_name": "qis101",
   "language": "python",
   "name": "python3"
  },
  "language_info": {
   "codemirror_mode": {
    "name": "ipython",
    "version": 3
   },
   "file_extension": ".py",
   "mimetype": "text/x-python",
   "name": "python",
   "nbconvert_exporter": "python",
   "pygments_lexer": "ipython3",
   "version": "3.12.9"
  }
 },
 "nbformat": 4,
 "nbformat_minor": 0
}
