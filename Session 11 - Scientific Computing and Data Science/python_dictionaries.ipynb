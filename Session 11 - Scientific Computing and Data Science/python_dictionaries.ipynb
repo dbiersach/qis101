{
 "cells": [
  {
   "cell_type": "markdown",
   "metadata": {
    "id": "5T7E0CR9Z1dn"
   },
   "source": [
    "Create a dictionary (key/value pairs) of nations and their capitals\n",
    "1. The keys will be of type `string`, and only one key will exist for each value\n",
    "2. The values will be of type `string`, and only one value will exist for each key\n",
    "3. Dictionaries preserve insertion order\n",
    "\n",
    "However, Python dictionaries can have keys and/or values that contain *multiple* items\\\n",
    "But you can never have <span style=\"color:red\">repeated</span> keys - all keys must be unique!"
   ]
  },
  {
   "cell_type": "code",
   "execution_count": null,
   "metadata": {
    "id": "WVJtNTQgaRCK"
   },
   "outputs": [],
   "source": [
    "\"\"\"python_dictionaries.ipynb\"\"\"\n",
    "\n",
    "# Cell 01\n",
    "\n",
    "capitals = {\n",
    "    \"USA\": \"Washington D.C.\",\n",
    "    \"Egypt\": \"Cairo\",\n",
    "    \"India\": \"New Delhi\",\n",
    "    \"China\": \"Beijing\",\n",
    "    \"Russia\": \"Moscow\",\n",
    "    \"France\": \"Paris\",\n",
    "    \"Morocco\": \"Rabat\",\n",
    "    \"Germany\": \"Berlin\",\n",
    "    \"South Africa\": \"Pretoria\",\n",
    "}\n",
    "\n",
    "capitals"
   ]
  },
  {
   "cell_type": "markdown",
   "metadata": {
    "id": "33B5qqSUaqlG"
   },
   "source": [
    "\"Pretty\" print the `capitals` dictionary\n",
    "1. Import the pretty printer module from the `pprint` package\n",
    "2. Notice the pretty printer displays the dictionary sorted by keys"
   ]
  },
  {
   "cell_type": "code",
   "execution_count": null,
   "metadata": {
    "id": "DS0E21QwavlG"
   },
   "outputs": [],
   "source": [
    "# Cell 02\n",
    "\n",
    "from pprint import pprint\n",
    "\n",
    "pprint(capitals)"
   ]
  },
  {
   "cell_type": "markdown",
   "metadata": {
    "id": "c7Hp2wIEc19h"
   },
   "source": [
    "Read the value of a specific key"
   ]
  },
  {
   "cell_type": "code",
   "execution_count": null,
   "metadata": {
    "id": "EnZJWQ8Gc6uI"
   },
   "outputs": [],
   "source": [
    "# Cell 03\n",
    "\n",
    "print(capitals[\"USA\"])"
   ]
  },
  {
   "cell_type": "markdown",
   "metadata": {
    "id": "iHCNerswbkK7"
   },
   "source": [
    "Create/insert new key/value pairs into the dictionary using two different methods/syntax"
   ]
  },
  {
   "cell_type": "code",
   "execution_count": null,
   "metadata": {
    "id": "r_7KQRkhbtyY"
   },
   "outputs": [],
   "source": [
    "# Cell 04\n",
    "\n",
    "capitals.update({\"United Kingdom\": \"London\"})\n",
    "capitals[\"Spain\"] = \"Madrid\"\n",
    "pprint(capitals)"
   ]
  },
  {
   "cell_type": "markdown",
   "metadata": {
    "id": "Q1TRbrxnbzNA"
   },
   "source": [
    "Update/change/edit the value for a key that already exists in the dictionary"
   ]
  },
  {
   "cell_type": "code",
   "execution_count": null,
   "metadata": {
    "id": "SE_DFPeCb8iy"
   },
   "outputs": [],
   "source": [
    "# Cell 05\n",
    "\n",
    "capitals[\"USA\"] = \"New York\"\n",
    "pprint(capitals)"
   ]
  },
  {
   "cell_type": "markdown",
   "metadata": {
    "id": "5-SAxtz6cAss"
   },
   "source": [
    "Delete/remove a key from the dictionary"
   ]
  },
  {
   "cell_type": "code",
   "execution_count": null,
   "metadata": {
    "id": "0SyiyxawcI1m"
   },
   "outputs": [],
   "source": [
    "# Cell 06\n",
    "\n",
    "del capitals[\"Russia\"]\n",
    "pprint(capitals)"
   ]
  }
 ],
 "metadata": {
  "colab": {
   "authorship_tag": "ABX9TyNElmi2O7uopIWM0dN+53ZL",
   "provenance": []
  },
  "kernelspec": {
   "display_name": "qis101",
   "language": "python",
   "name": "python3"
  },
  "language_info": {
   "codemirror_mode": {
    "name": "ipython",
    "version": 3
   },
   "file_extension": ".py",
   "mimetype": "text/x-python",
   "name": "python",
   "nbconvert_exporter": "python",
   "pygments_lexer": "ipython3",
   "version": "3.12.9"
  }
 },
 "nbformat": 4,
 "nbformat_minor": 0
}
