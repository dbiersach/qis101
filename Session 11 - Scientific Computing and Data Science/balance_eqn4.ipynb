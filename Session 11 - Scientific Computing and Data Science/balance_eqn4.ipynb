{
 "cells": [
  {
   "cell_type": "markdown",
   "metadata": {
    "id": "oNqs56aOR8i5"
   },
   "source": [
    "$Cr_2O_7^{2-} + H^+ + H_2C_2O_4\\;→\\;Cr^{3+} + H_2O + CO_2$"
   ]
  },
  {
   "cell_type": "code",
   "execution_count": null,
   "metadata": {
    "id": "8AVgSEkDSPK8"
   },
   "outputs": [],
   "source": [
    "\"\"\"balance_eqn4.ipynb\"\"\"\n",
    "\n",
    "# Cell 01\n",
    "\n",
    "import pulp\n",
    "\n",
    "x0 = pulp.LpVariable(name=\"x0\", lowBound=1, cat=\"Integer\")  # Cr2O7(2-)\n",
    "x1 = pulp.LpVariable(name=\"x1\", lowBound=1, cat=\"Integer\")  # H(+)\n",
    "x2 = pulp.LpVariable(name=\"x2\", lowBound=1, cat=\"Integer\")  # H2C2O4\n",
    "x3 = pulp.LpVariable(name=\"x3\", lowBound=1, cat=\"Integer\")  # Cr(3+)\n",
    "x4 = pulp.LpVariable(name=\"x4\", lowBound=1, cat=\"Integer\")  # H2O\n",
    "x5 = pulp.LpVariable(name=\"x5\", lowBound=1, cat=\"Integer\")  # CO2\n",
    "\n",
    "prob = pulp.LpProblem(sense=pulp.LpMinimize)\n",
    "prob.name = \"Equation #4\"\n",
    "\n",
    "prob += 2 * x0 == x3  # Chromium (Cr)\n",
    "prob += 7 * x0 + 4 * x2 == x4 + 2 * x5  # Oxygen (O)\n",
    "prob += x1 + 2 * x2 == 2 * x4  # Hydrogen (H)\n",
    "prob += 2 * x2 == x5  # Carbon (C)\n",
    "prob += -2 * x0 + x1 == 3 * x3  # Ionic Charges\n",
    "\n",
    "prob += pulp.lpSum([x0, x1, x2, x3, x4, x5])\n",
    "\n",
    "prob.solve(pulp.PULP_CBC_CMD(msg=0))\n",
    "print(prob.name)\n",
    "print(f\"x0 = {pulp.value(x0):n}\")\n",
    "print(f\"x1 = {pulp.value(x1):n}\")\n",
    "print(f\"x2 = {pulp.value(x2):n}\")\n",
    "print(f\"x3 = {pulp.value(x3):n}\")\n",
    "print(f\"x4 = {pulp.value(x4):n}\")\n",
    "print(f\"x5 = {pulp.value(x5):n}\")"
   ]
  }
 ],
 "metadata": {
  "colab": {
   "provenance": []
  },
  "kernelspec": {
   "display_name": "qis101",
   "language": "python",
   "name": "python3"
  },
  "language_info": {
   "codemirror_mode": {
    "name": "ipython",
    "version": 3
   },
   "file_extension": ".py",
   "mimetype": "text/x-python",
   "name": "python",
   "nbconvert_exporter": "python",
   "pygments_lexer": "ipython3",
   "version": "3.12.9"
  }
 },
 "nbformat": 4,
 "nbformat_minor": 0
}
