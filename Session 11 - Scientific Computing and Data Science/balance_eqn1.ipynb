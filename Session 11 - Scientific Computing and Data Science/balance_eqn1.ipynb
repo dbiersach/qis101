{
 "cells": [
  {
   "cell_type": "markdown",
   "metadata": {
    "id": "oNqs56aOR8i5"
   },
   "source": [
    "**Create the decision variables to balance:**\\\n",
    "$HNO_3 + Ca(OH)_2\\;\\rightarrow\\;Ca(NO_3)_2 + H_2O$\n",
    "1. There is one `Python` *variable* for each <u>term</u> in the chemical equation\n",
    "2. If the chemical equation is ionic, we must include one more *variable* to track <u>charges</u>\n",
    "3. As in sympy, we assign a text \"name\" to each term that matches its `Python` variable name"
   ]
  },
  {
   "cell_type": "code",
   "execution_count": null,
   "metadata": {
    "id": "8AVgSEkDSPK8"
   },
   "outputs": [],
   "source": [
    "\"\"\"balance_eqn1.ipynb\"\"\"\n",
    "\n",
    "# Cell 01\n",
    "\n",
    "import pulp  # Python Linear Programming package\n",
    "\n",
    "x0 = pulp.LpVariable(name=\"x0\", lowBound=1, cat=\"Integer\")  # HNO3\n",
    "x1 = pulp.LpVariable(name=\"x1\", lowBound=1, cat=\"Integer\")  # Ca(OH)2\n",
    "x2 = pulp.LpVariable(name=\"x2\", lowBound=1, cat=\"Integer\")  # Ca(NO3)2\n",
    "x3 = pulp.LpVariable(name=\"x3\", lowBound=1, cat=\"Integer\")  # H20\n",
    "\n",
    "print(x0, x1, x2, x3)"
   ]
  },
  {
   "cell_type": "markdown",
   "metadata": {
    "id": "u6MkbivnS3HG"
   },
   "source": [
    "**Add in the constraints of the integer programming problem**\n",
    "1. To be balanced, the # of reactants equals the # of products for each `element`\n",
    "2. In the balanced equation, each term coefficient must be an integer $\\ge 1$"
   ]
  },
  {
   "cell_type": "code",
   "execution_count": null,
   "metadata": {
    "id": "xUmlrO3QTMmP"
   },
   "outputs": [],
   "source": [
    "# Cell 02\n",
    "\n",
    "prob = pulp.LpProblem(sense=pulp.LpMinimize)\n",
    "prob.name = \"Equation #1\"\n",
    "\n",
    "prob += x0 + 2 * x1 == 2 * x3  # Hydrogen (H)\n",
    "prob += x0 == 2 * x2  # Nitrogen (N)\n",
    "prob += 3 * x0 + 2 * x1 == 6 * x2 + x3  # Oxygen (O)\n",
    "prob += x1 == x2  # Calcium (Ca)\n",
    "\n",
    "prob += pulp.lpSum([x0, x1, x2, x3])\n",
    "\n",
    "prob"
   ]
  },
  {
   "cell_type": "markdown",
   "metadata": {
    "id": "YUDZASy-TQSM"
   },
   "source": [
    "**Use PuLP's default COIN \"Branch and Cut solver\" (CBC) MIP solver**\n",
    "1. COIN-OR = Computational Infrastructure for Operations Research ([https://www.coin-or.org](https://www.coin-or.org))\n",
    "2. CBC = (C)oin (B)ranch and (C)ut Solver\n",
    "3. Display the final value of the decision variables"
   ]
  },
  {
   "cell_type": "code",
   "execution_count": null,
   "metadata": {
    "id": "y0c98_spTcdz"
   },
   "outputs": [],
   "source": [
    "# Cell 03\n",
    "\n",
    "prob.solve(pulp.PULP_CBC_CMD(msg=0))\n",
    "print(prob.name)\n",
    "print(f\"x0 = {pulp.value(x0):n}\")\n",
    "print(f\"x1 = {pulp.value(x1):n}\")\n",
    "print(f\"x2 = {pulp.value(x2):n}\")\n",
    "print(f\"x3 = {pulp.value(x3):n}\")"
   ]
  }
 ],
 "metadata": {
  "colab": {
   "provenance": []
  },
  "kernelspec": {
   "display_name": "qis101",
   "language": "python",
   "name": "python3"
  },
  "language_info": {
   "codemirror_mode": {
    "name": "ipython",
    "version": 3
   },
   "file_extension": ".py",
   "mimetype": "text/x-python",
   "name": "python",
   "nbconvert_exporter": "python",
   "pygments_lexer": "ipython3",
   "version": "3.12.9"
  }
 },
 "nbformat": 4,
 "nbformat_minor": 0
}
