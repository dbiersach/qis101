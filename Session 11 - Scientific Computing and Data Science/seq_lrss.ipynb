{
 "cells": [
  {
   "cell_type": "markdown",
   "metadata": {
    "id": "vz8cNFHTWwwQ"
   },
   "source": [
    "Define a function `match(string1, string2)`\\\n",
    "It returns a string3 containing every matching letter (by position) that is both string1 and string2"
   ]
  },
  {
   "cell_type": "code",
   "execution_count": null,
   "metadata": {
    "id": "usblJr8KXgXc"
   },
   "outputs": [],
   "source": [
    "# Cell 01\n",
    "\n",
    "\n",
    "def match(s1, s2):\n",
    "    if len(s1) > len(s2):\n",
    "        s1, s2 = s2, s1\n",
    "    s3 = \"\"\n",
    "    for i in range(len(s1)):\n",
    "        if s1[i] == s2[i]:\n",
    "            s3 += s1[i]\n",
    "        else:\n",
    "            break\n",
    "    return s3\n",
    "\n",
    "\n",
    "match(\"Hello\", \"He\")"
   ]
  },
  {
   "cell_type": "markdown",
   "metadata": {
    "id": "t-YNpGjXXwnD"
   },
   "source": [
    "Define the longest recurring subsequence(substring) function\\\n",
    "The inbound parameter `seq` is a string containing DNA bases"
   ]
  },
  {
   "cell_type": "code",
   "execution_count": null,
   "metadata": {
    "id": "WNVJBjZ1X2A9"
   },
   "outputs": [],
   "source": [
    "# Cell 02\n",
    "\n",
    "\n",
    "def lrss(seq):\n",
    "    # Step 1 - Form the suffixes list\n",
    "    suffixes = []\n",
    "    for i in range(len(seq)):\n",
    "        suffixes.append(seq[i:])\n",
    "\n",
    "    # Step 2 - Sort the suffixes list\n",
    "    suffixes.sort()\n",
    "\n",
    "    # Step 3 - Scan the suffixes list\n",
    "    longest = \"\"\n",
    "    for i in range(len(suffixes) - 1):\n",
    "        s1 = suffixes[i]\n",
    "        s2 = suffixes[i + 1]\n",
    "        candidate = match(s1, s2)\n",
    "        if len(candidate) > len(longest):\n",
    "            longest = candidate\n",
    "\n",
    "    return longest\n",
    "\n",
    "\n",
    "lrss(\"AACAAGTTTACAAGC\")"
   ]
  },
  {
   "cell_type": "markdown",
   "metadata": {
    "id": "rYrEi_5Ybh9h"
   },
   "source": [
    "Define a function to open a sequence text file and display its LRSS\n",
    "1. Using a `with` context manager, read the text (ASCII) file into a <u>byte array</u>\n",
    "2. Convert the byte array to a **UTF-8** encoded string and force all characters to UPPERCASE\\\n",
    "Recall all strings in Python are stored as a sequence of **Unicode** *codepoints* which are <u>non-negative</u> integers\\\n",
    "Each Unicode codepoint is each mapped to a unique character/symbol in every known language\\\n",
    "Unicode codepoint values are $\\le2^{22}-1\\;(4,194,303)\\;$*21 bits max*\n",
    "3. Use a `regular expression` to remove non-letters from the sequence string"
   ]
  },
  {
   "cell_type": "code",
   "execution_count": null,
   "metadata": {
    "id": "7kKXWuKUbnpK"
   },
   "outputs": [],
   "source": [
    "# Cell 03\n",
    "\n",
    "import re\n",
    "from pathlib import Path\n",
    "\n",
    "\n",
    "def analyze_file(file_name):\n",
    "    with Path.open(file_name, \"rb\") as f_in:\n",
    "        # Read in text file into an array of file bytes\n",
    "        f_bytes = bytearray(f_in.read())\n",
    "\n",
    "    # Enforce uppercase and remove non-letters, convert to UTF-8\n",
    "    seq = bytearray(f_bytes).decode().upper()\n",
    "    seq = re.compile(\"[^A-Z]\").sub(\"\", seq)\n",
    "\n",
    "    # Find and print the longest repeated sub-string (lrss)\n",
    "    longest = lrss(seq)\n",
    "    print(f\"Longest repeated substring: {longest} \")\n",
    "\n",
    "\n",
    "analyze_file(\"fruitfly.txt\")"
   ]
  }
 ],
 "metadata": {
  "colab": {
   "provenance": []
  },
  "kernelspec": {
   "display_name": "qis101",
   "language": "python",
   "name": "python3"
  },
  "language_info": {
   "codemirror_mode": {
    "name": "ipython",
    "version": 3
   },
   "file_extension": ".py",
   "mimetype": "text/x-python",
   "name": "python",
   "nbconvert_exporter": "python",
   "pygments_lexer": "ipython3",
   "version": "3.12.9"
  }
 },
 "nbformat": 4,
 "nbformat_minor": 0
}
