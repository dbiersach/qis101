{
 "cells": [
  {
   "cell_type": "markdown",
   "metadata": {
    "id": "oNqs56aOR8i5"
   },
   "source": [
    "$P_2I_4 + P_4 + H_2O\\;→\\;PH_4I + H_3PO_4$"
   ]
  },
  {
   "cell_type": "code",
   "execution_count": null,
   "metadata": {
    "id": "8AVgSEkDSPK8"
   },
   "outputs": [],
   "source": [
    "\"\"\"balance_eqn6.ipynb\"\"\"\n",
    "\n",
    "# Cell 01\n",
    "\n",
    "import pulp  # Python Linear Programming package\n",
    "\n",
    "x0 = pulp.LpVariable(name=\"x0\", lowBound=1, cat=\"Integer\")  # P2I4\n",
    "x1 = pulp.LpVariable(name=\"x1\", lowBound=1, cat=\"Integer\")  # P4\n",
    "x2 = pulp.LpVariable(name=\"x2\", lowBound=1, cat=\"Integer\")  # H2O\n",
    "x3 = pulp.LpVariable(name=\"x3\", lowBound=1, cat=\"Integer\")  # PH4I\n",
    "x4 = pulp.LpVariable(name=\"x4\", lowBound=1, cat=\"Integer\")  # H3PO4\n",
    "\n",
    "prob = pulp.LpProblem(sense=pulp.LpMinimize)\n",
    "prob.name = \"Equation #6\"\n",
    "\n",
    "prob += 2 * x0 + 4 * x1 == x3 + x4  # Phosphorus (P)\n",
    "prob += 4 * x0 == x3  # Iodine (I)\n",
    "prob += 2 * x2 == 4 * x3 + 3 * x4  # Hydrogen (H)\n",
    "prob += x2 == 4 * x4  # Oxygen (O)\n",
    "\n",
    "prob += pulp.lpSum([x0, x1, x2, x3, x4])\n",
    "\n",
    "prob.solve(pulp.PULP_CBC_CMD(msg=0))\n",
    "print(prob.name)\n",
    "print(f\"x0 = {pulp.value(x0):n}\")\n",
    "print(f\"x1 = {pulp.value(x1):n}\")\n",
    "print(f\"x2 = {pulp.value(x2):n}\")\n",
    "print(f\"x3 = {pulp.value(x3):n}\")\n",
    "print(f\"x4 = {pulp.value(x4):n}\")"
   ]
  }
 ],
 "metadata": {
  "colab": {
   "provenance": []
  },
  "kernelspec": {
   "display_name": "qis101",
   "language": "python",
   "name": "python3"
  },
  "language_info": {
   "codemirror_mode": {
    "name": "ipython",
    "version": 3
   },
   "file_extension": ".py",
   "mimetype": "text/x-python",
   "name": "python",
   "nbconvert_exporter": "python",
   "pygments_lexer": "ipython3",
   "version": "3.12.9"
  }
 },
 "nbformat": 4,
 "nbformat_minor": 0
}
