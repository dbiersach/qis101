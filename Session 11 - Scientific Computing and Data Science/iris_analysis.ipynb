{
 "cells": [
  {
   "cell_type": "code",
   "execution_count": null,
   "metadata": {
    "id": "OO-dZZm6h6Pz"
   },
   "outputs": [],
   "source": [
    "import numpy as np\n",
    "import pandas as pd\n",
    "\n",
    "# Cell 01 - Extract the petal dimensions from the Iris dataset\n",
    "# Iris CSV taken from https://archive.ics.uci.edu/dataset/53/iris\n",
    "\n",
    "file_name = \"iris.csv\"\n",
    "petal_data = np.genfromtxt(\n",
    "    file_name, delimiter=\",\", skip_header=1, usecols=(2, 3), dtype=float\n",
    ")\n",
    "\n",
    "pd.DataFrame(\n",
    "    petal_data,\n",
    "    columns=[\"Petal Length (cm)\", \"Petal Width (cm)\"],\n",
    ")"
   ]
  },
  {
   "cell_type": "code",
   "execution_count": null,
   "metadata": {},
   "outputs": [],
   "source": [
    "# Cell 02 - Extract the species from the Iris dataset\n",
    "\n",
    "species_data = np.genfromtxt(\n",
    "    file_name, delimiter=\",\", skip_header=1, usecols=(4), dtype=str\n",
    ")\n",
    "\n",
    "pd.DataFrame(species_data, columns=[\"Species\"])"
   ]
  },
  {
   "cell_type": "code",
   "execution_count": null,
   "metadata": {},
   "outputs": [],
   "source": [
    "import matplotlib.pyplot as plt\n",
    "\n",
    "# Cell 03 - Plot the relationship between petal length and petal width between varieties\n",
    "\n",
    "plt.figure(figsize=(8, 6))\n",
    "for species in np.unique(species_data):\n",
    "    mask = species_data == species  # Broadcasting and element-wise comparison\n",
    "    plt.scatter(petal_data[mask, 0], petal_data[mask, 1], label=species.strip('\"'))\n",
    "plt.title(\"Iris Petal Length vs Petal Width By Species\")\n",
    "plt.xlabel(\"Petal Length (cm)\")\n",
    "plt.ylabel(\"Petal Width (cm)\")\n",
    "plt.legend(loc=\"upper left\")\n",
    "plt.show()\n"
   ]
  }
 ],
 "metadata": {
  "colab": {
   "provenance": []
  },
  "kernelspec": {
   "display_name": "qis101",
   "language": "python",
   "name": "python3"
  },
  "language_info": {
   "codemirror_mode": {
    "name": "ipython",
    "version": 3
   },
   "file_extension": ".py",
   "mimetype": "text/x-python",
   "name": "python",
   "nbconvert_exporter": "python",
   "pygments_lexer": "ipython3",
   "version": "3.12.9"
  }
 },
 "nbformat": 4,
 "nbformat_minor": 0
}
