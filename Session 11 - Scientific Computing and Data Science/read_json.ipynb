{
 "cells": [
  {
   "cell_type": "markdown",
   "metadata": {
    "id": "IVWjdRJghrje"
   },
   "source": [
    "Rehydrate (deserialize) a Python dictionary\n",
    "1. Read a JSON formatted text file using a <span style=\"color:fuchsia\">with</span> `context handler`\n",
    "2. Then \"pretty print\" that dictionary"
   ]
  },
  {
   "cell_type": "code",
   "execution_count": null,
   "metadata": {
    "id": "OO-dZZm6h6Pz"
   },
   "outputs": [],
   "source": [
    "\"\"\"read_json.py\"\"\"\n",
    "\n",
    "# Cell 01\n",
    "\n",
    "import json\n",
    "from pathlib import Path\n",
    "from pprint import pprint\n",
    "\n",
    "file_name = \"uranium_isotopes.json\"\n",
    "with Path.open(file_name, \"rb\") as f_in:\n",
    "    uranium_isotopes = json.load(f_in)\n",
    "\n",
    "pprint(uranium_isotopes)"
   ]
  },
  {
   "cell_type": "markdown",
   "metadata": {
    "id": "qo0kfj56ir_F"
   },
   "source": [
    "Find and print the two Uranium isotopes that have the\\\n",
    "greatest difference between their respective half-lives\n",
    "1. $k1$ and $k2$ are the keys of any two dictionary entries\n",
    "2. $v1$ and $v2$ are the values of those corresponding two keys\n",
    "3. $h1$ and $h2$ are the 'half-life' values of those two isotopes\n",
    "4. $iso1$ and $iso2$ are references to specific items in the dictionary"
   ]
  },
  {
   "cell_type": "code",
   "execution_count": null,
   "metadata": {
    "id": "r7vrsyJii5Qq"
   },
   "outputs": [],
   "source": [
    "# Cell 02\n",
    "\n",
    "max_diff = 0.0\n",
    "for k1, v1 in uranium_isotopes.items():\n",
    "    for k2, v2 in uranium_isotopes.items():\n",
    "        h1 = float(v1[\"half-life\"])\n",
    "        h2 = float(v2[\"half-life\"])\n",
    "        diff = abs(h1 - h2)\n",
    "        if diff > max_diff:\n",
    "            iso1 = k1\n",
    "            iso2 = k2\n",
    "            max_diff = diff\n",
    "\n",
    "print(iso1)\n",
    "print(iso2)"
   ]
  },
  {
   "cell_type": "markdown",
   "metadata": {
    "id": "Qwtzpo2xjpc_"
   },
   "source": [
    "Convert the maximum difference in half-life of the two isotopes from seconds to years"
   ]
  },
  {
   "cell_type": "code",
   "execution_count": null,
   "metadata": {
    "id": "gAuzdEP7jxPD"
   },
   "outputs": [],
   "source": [
    "# Cell 03\n",
    "\n",
    "year_diff = max_diff / (60 * 60 * 24 * 365.25)\n",
    "print(f\"Half-life difference: {year_diff:,.0f} years\")"
   ]
  },
  {
   "cell_type": "markdown",
   "metadata": {
    "id": "sKCVNtT4j2PP"
   },
   "source": [
    "Determine the difference in number of neutrons of the two isotopes"
   ]
  },
  {
   "cell_type": "code",
   "execution_count": null,
   "metadata": {
    "id": "lQNtnUZlkDx6"
   },
   "outputs": [],
   "source": [
    "# Cell 04\n",
    "\n",
    "neutrons1 = uranium_isotopes[iso1][\"neutrons\"]\n",
    "neutrons2 = uranium_isotopes[iso2][\"neutrons\"]\n",
    "neutron_delta = abs(neutrons1 - neutrons2)\n",
    "print(f\"Neutron difference:   {neutron_delta}\")"
   ]
  }
 ],
 "metadata": {
  "colab": {
   "provenance": []
  },
  "kernelspec": {
   "display_name": "qis101",
   "language": "python",
   "name": "python3"
  },
  "language_info": {
   "codemirror_mode": {
    "name": "ipython",
    "version": 3
   },
   "file_extension": ".py",
   "mimetype": "text/x-python",
   "name": "python",
   "nbconvert_exporter": "python",
   "pygments_lexer": "ipython3",
   "version": "3.12.9"
  }
 },
 "nbformat": 4,
 "nbformat_minor": 0
}
