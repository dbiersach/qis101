{
 "cells": [
  {
   "cell_type": "markdown",
   "metadata": {
    "id": "NBUnC1MCf0y0"
   },
   "source": [
    "Create dictionary of Uranium isotope data\n",
    "1. Notice the value of each key is itself *another* dictionary\n",
    "2. The half-life values are in units of seconds\n",
    "3. Python natively understands `scientific notation`"
   ]
  },
  {
   "cell_type": "code",
   "execution_count": null,
   "metadata": {
    "id": "UcHFtMRegAhT"
   },
   "outputs": [],
   "source": [
    "\"\"\"write_json.ipynb\"\"\"\n",
    "\n",
    "# Cell 01\n",
    "\n",
    "from pprint import pprint\n",
    "\n",
    "uranium_isotopes = {\n",
    "    \"Uranium 233\": {\n",
    "        \"atomic_mass\": \"233.03963 u\",\n",
    "        \"neutrons\": 141,\n",
    "        \"half-life\": 5.015e12,\n",
    "    },\n",
    "    \"Uranium 234\": {\n",
    "        \"atomic_mass\": \"234.04095 u\",\n",
    "        \"neutrons\": 142,\n",
    "        \"half-life\": 7.758e12,\n",
    "    },\n",
    "    \"Uranium 235\": {\n",
    "        \"atomic_mass\": \"235.04393 u\",\n",
    "        \"neutrons\": 143,\n",
    "        \"half-life\": 2.208e16,\n",
    "    },\n",
    "    \"Uranium 236\": {\n",
    "        \"atomic_mass\": \"236.04557 u\",\n",
    "        \"neutrons\": 144,\n",
    "        \"half-life\": 7.379e14,\n",
    "    },\n",
    "    \"Uranium 237\": {\n",
    "        \"atomic_mass\": \"237.04873 u\",\n",
    "        \"neutrons\": 145,\n",
    "        \"half-life\": 583200,\n",
    "    },\n",
    "    \"Uranium 238\": {\n",
    "        \"atomic_mass\": \"238.05079 u\",\n",
    "        \"neutrons\": 146,\n",
    "        \"half-life\": 1.407e17,\n",
    "    },\n",
    "}\n",
    "\n",
    "pprint(uranium_isotopes)"
   ]
  },
  {
   "cell_type": "markdown",
   "metadata": {
    "id": "Qb_xECp7gF-e"
   },
   "source": [
    "Write the dictionary to a JSON-formatted text (ASCII) file\\\n",
    "`Note`: The file will appear in the same folder as this notebook"
   ]
  },
  {
   "cell_type": "code",
   "execution_count": null,
   "metadata": {
    "id": "KHWqWVqMgO5N"
   },
   "outputs": [],
   "source": [
    "# Cell 02\n",
    "\n",
    "import json\n",
    "from pathlib import Path\n",
    "\n",
    "file_name = \"uranium_isotopes.json\"\n",
    "with Path.open(file_name, \"w\", encoding=\"ascii\") as file_out:\n",
    "    json.dump(uranium_isotopes, file_out, indent=4)\n",
    "\n",
    "print(f'The file \"{file_name}\" was successfully created!')"
   ]
  }
 ],
 "metadata": {
  "colab": {
   "provenance": []
  },
  "kernelspec": {
   "display_name": "qis101",
   "language": "python",
   "name": "python3"
  },
  "language_info": {
   "codemirror_mode": {
    "name": "ipython",
    "version": 3
   },
   "file_extension": ".py",
   "mimetype": "text/x-python",
   "name": "python",
   "nbconvert_exporter": "python",
   "pygments_lexer": "ipython3",
   "version": "3.12.9"
  }
 },
 "nbformat": 4,
 "nbformat_minor": 0
}
